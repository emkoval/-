{
  "nbformat": 4,
  "nbformat_minor": 0,
  "metadata": {
    "colab": {
      "provenance": [],
      "collapsed_sections": [
        "xjBo_ebS9BpG",
        "f52IBxo_3QMO",
        "JUJsTkMH4Gbi",
        "ty-_ARJv4hjz",
        "ibVDS0oG6Kab",
        "Byz1IibM7s8y",
        "pmEBQyIh9Ist",
        "NdG5Y_Cg9Isv",
        "Tf1rQpab9Isx"
      ],
      "include_colab_link": true
    },
    "kernelspec": {
      "name": "python3",
      "display_name": "Python 3"
    },
    "language_info": {
      "name": "python"
    }
  },
  "cells": [
    {
      "cell_type": "markdown",
      "metadata": {
        "id": "view-in-github",
        "colab_type": "text"
      },
      "source": [
        "<a href=\"https://colab.research.google.com/github/emkoval/domashka/blob/main/%D0%9A%D0%BE%D0%B2%D0%B0%D0%BB%D0%B5%D0%BD%D0%BA%D0%BE_%224_if_ipynb%22.ipynb\" target=\"_parent\"><img src=\"https://colab.research.google.com/assets/colab-badge.svg\" alt=\"Open In Colab\"/></a>"
      ]
    },
    {
      "cell_type": "markdown",
      "source": [
        "# Блок 1: задачи на условия"
      ],
      "metadata": {
        "id": "xjBo_ebS9BpG"
      }
    },
    {
      "cell_type": "markdown",
      "source": [
        "## Задание 1\n",
        "\n",
        "### Напишите программу для проверки пароля пользователя\n",
        "\n",
        "**Образец работы программы:**\n",
        "\n",
        "```\n",
        "Введите пароль: 123\n",
        "Пароль неверный\n",
        "Введите пароль: 321\n",
        "Пароль верный\n",
        "```\n",
        "\n",
        "**Алгоритм:**\n",
        "\n",
        "1. Создайте переменную, в которой хранится верный пароль\n",
        "2. Запросите у пользователя пароль\n",
        "3. Если пароль верный, выведите \"Пароль верный\"\n",
        "4. Иначе, выведите \"Пароль неверный\""
      ],
      "metadata": {
        "id": "f52IBxo_3QMO"
      }
    },
    {
      "cell_type": "code",
      "execution_count": 9,
      "metadata": {
        "id": "XDk2pBii3Nvo",
        "colab": {
          "base_uri": "https://localhost:8080/"
        },
        "outputId": "125859fc-581e-4059-dc9c-e650f78eb6e4"
      },
      "outputs": [
        {
          "output_type": "stream",
          "name": "stdout",
          "text": [
            "Введите пароль: 321\n",
            "\n",
            "Пароль bерный\n"
          ]
        }
      ],
      "source": [
        "true_passwd = \"321\"\n",
        "user_passwd = input(\"Введите пароль: \")\n",
        "print()\n",
        "if user_passwd == true_passwd:\n",
        "  print(\"Пароль Bерный\")\n",
        "else:\n",
        "  print(\"Пароль неверный\")"
      ]
    },
    {
      "cell_type": "markdown",
      "source": [
        "## Задание 2\n",
        "\n",
        "### Напишите программу для проверки возраста пользователя\n",
        "\n",
        "**Образец работы программы:**\n",
        "\n",
        "```\n",
        "Введите возраст: 12\n",
        "Доступ запрещен\n",
        "Введите пароль: 21\n",
        "Доступ разрешен\n",
        "```\n",
        "Если возраст больше или равен 18, программа выводит \"Доступ разрешен\""
      ],
      "metadata": {
        "id": "JUJsTkMH4Gbi"
      }
    },
    {
      "cell_type": "code",
      "source": [
        "true_age = 18\n",
        "user_age = int(input(\"Введите возраст: \"))\n",
        "print()\n",
        "if user_age >= true_age:\n",
        "  print(\"Доступ разрешен\")\n",
        "else:\n",
        "  print(\"Доступ запрещен\")"
      ],
      "metadata": {
        "id": "aUr56W8b3-gg",
        "colab": {
          "base_uri": "https://localhost:8080/"
        },
        "outputId": "b1c64baf-1030-45a4-a550-3f55ab6e5269"
      },
      "execution_count": 11,
      "outputs": [
        {
          "output_type": "stream",
          "name": "stdout",
          "text": [
            "Введите возраст: 1\n",
            "\n",
            "Доступ запрещен\n"
          ]
        }
      ]
    },
    {
      "cell_type": "markdown",
      "source": [
        "## Задание 3\n",
        "\n",
        "### Напишите программу для приветствия пользователя\n",
        "\n",
        "**Образец работы программы:**\n",
        "\n",
        "```\n",
        "Введите время: 12:30\n",
        "Добрый день!\n",
        "Введите время: 10:30\n",
        "Доброе утро!\n",
        "Введите время: 21:30\n",
        "Добрый вечер!\n",
        "Введите время: 01:30\n",
        "Доброй ночи!\n",
        "```\n",
        "**Алгоритм:**\n",
        "\n",
        "1. Программа принимает на вход строку\n",
        "2. Делим строку по знаку `:`, создаем новую переменную с результатом разделения\n",
        "3. Извлекаем первый элемент из созданной переменной\n",
        "3. Использует логические выражения, чтобы вывести одно из четырех приветствий"
      ],
      "metadata": {
        "id": "ty-_ARJv4hjz"
      }
    },
    {
      "cell_type": "code",
      "source": [
        "user_time = input().split(\":\")[0]\n",
        "\n",
        "#user_time = user_time[0]\n",
        "\n",
        "time = {\"ый вечер!\": [\"16\", '17', '18', '19', '20', '21'], \"ой ночи!\" : ['22', '23', '00', '01', '02', '03'], \"ое утро!\": ['04', '05', '06', '07', '08', '09', '10', '11'], \"ый день!\": ['12', '13', '14', '15']}\n",
        "for key in time:\n",
        "\n",
        "  if user_time in time[key]:\n",
        "    print(\"Добp\"+key)\n",
        "\n"
      ],
      "metadata": {
        "id": "076IfTcK42zK",
        "colab": {
          "base_uri": "https://localhost:8080/"
        },
        "outputId": "491cd156-0104-48a1-ba47-283b92b80741"
      },
      "execution_count": 34,
      "outputs": [
        {
          "output_type": "stream",
          "name": "stdout",
          "text": [
            "12:00\n",
            "Добpый день!\n"
          ]
        }
      ]
    },
    {
      "cell_type": "markdown",
      "source": [
        "## Задание 4\n",
        "\n",
        "### Целочисленный калькулятор\n",
        "\n",
        "**Образец работы программы:**\n",
        "\n",
        "```\n",
        "Введите выражение: 2 + 2\n",
        "4\n",
        "Введите выражение: 2 - 2\n",
        "0\n",
        "Введите выражение: 2 : 2\n",
        "1\n",
        "Введите время: 2 * 2\n",
        "4\n",
        "```\n",
        "**Алгоритм:**\n",
        "\n",
        "1. Программа принимает на вход строку\n",
        "2. Делим строку, создаем список из 3-х элементов\n",
        "3. Проверяем, что записано во втором элементе (помним, что нумерация начинается с 0!) с помощью условий\n",
        "4. Производим одно из четырех возможных действий с первым и последним элементом созданного списка"
      ],
      "metadata": {
        "id": "ibVDS0oG6Kab"
      }
    },
    {
      "cell_type": "code",
      "source": [
        "problem = input(\"Введите выражение: \").split()\n",
        "if problem[1] == \"+\":\n",
        "  result = int(problem[0]) + int(problem[2])\n",
        "elif problem[1] == \"-\":\n",
        "  result = int(problem[0]) - int(problem[2])\n",
        "elif problem[1] == \"*\":\n",
        "  result = int(problem[0]) * int(problem[2])\n",
        "elif problem[1] == \":\":\n",
        "  result = int(problem[0]) / int(problem[2])\n",
        "print(result)"
      ],
      "metadata": {
        "id": "TQroW6Jr7C0K",
        "colab": {
          "base_uri": "https://localhost:8080/"
        },
        "outputId": "fcc20ef2-4188-4ea2-db24-f77b822d0f58"
      },
      "execution_count": 41,
      "outputs": [
        {
          "output_type": "stream",
          "name": "stdout",
          "text": [
            "Введите выражение: 7 : 6\n",
            "1.1666666666666667\n"
          ]
        }
      ]
    },
    {
      "cell_type": "markdown",
      "source": [
        "## Задание 5\n",
        "\n",
        "### Умный калькулятор\n",
        "\n",
        "**Образец работы программы:**\n",
        "\n",
        "```\n",
        "Введите выражение: 2 + 2\n",
        "4\n",
        "Введите выражение: 2 == 2\n",
        "True\n",
        "Введите выражение: 2 + 2.1\n",
        "4.1\n",
        "```\n",
        "Дополните калькулятор из задания 4:\n",
        "1. Замените операции с int операциями с float\n",
        "2. Научите калькулятор выполнять логические выражения, добавив новое условие\n",
        "3. Если результат вычисления - целое число (например, `4.0`), выводите целочисленный тип (`4`), иначе, выводите float"
      ],
      "metadata": {
        "id": "Byz1IibM7s8y"
      }
    },
    {
      "cell_type": "code",
      "source": [
        "problem = input(\"Введите выражение: \").split()\n",
        "if problem[1] == \"+\":\n",
        "  result = float(problem[0]) + float(problem[2])\n",
        "elif problem[1] == \"-\":\n",
        "  result = float(problem[0]) - float(problem[2])\n",
        "elif problem[1] == \"*\":\n",
        "  result = float(problem[0]) * float(problem[2])\n",
        "elif problem[1] == \":\":\n",
        "  result = float(problem[0]) / float(problem[2])\n",
        "print(result)"
      ],
      "metadata": {
        "id": "z5cHM4Og7G9s",
        "colab": {
          "base_uri": "https://localhost:8080/"
        },
        "outputId": "d3a943b9-1059-4dda-ff8d-72e65c4041e1"
      },
      "execution_count": 44,
      "outputs": [
        {
          "output_type": "stream",
          "name": "stdout",
          "text": [
            "Введите выражение: 4 + 4\n",
            "8.0\n"
          ]
        }
      ]
    },
    {
      "cell_type": "code",
      "source": [
        "problem = input(\"Введите выражение: \").split()\n",
        "if problem[1] == \"+\":\n",
        "  result = float(problem[0]) + float(problem[2])\n",
        "elif problem[1] == \"-\":\n",
        "  result = float(problem[0]) - float(problem[2])\n",
        "elif problem[1] == \"*\":\n",
        "  result = float(problem[0]) * float(problem[2])\n",
        "elif problem[1] == \":\":\n",
        "  result = float(problem[0]) / float(problem[2])\n",
        "elif problem[1] == \"==\":\n",
        "  result = float(problem[0]) == float(problem[2])\n",
        "print(result)"
      ],
      "metadata": {
        "id": "THlKL93h8X7m",
        "colab": {
          "base_uri": "https://localhost:8080/"
        },
        "outputId": "d8e5667b-1ec9-4b4e-f496-7468dbd2a909"
      },
      "execution_count": 45,
      "outputs": [
        {
          "output_type": "stream",
          "name": "stdout",
          "text": [
            "Введите выражение: 5 == 8\n",
            "False\n"
          ]
        }
      ]
    },
    {
      "cell_type": "code",
      "source": [
        "problem = input(\"Введите выражение: \").split()\n",
        "if problem[1] == \"+\":\n",
        "  result = float(problem[0]) + float(problem[2])\n",
        "elif problem[1] == \"-\":\n",
        "  result = float(problem[0]) - float(problem[2])\n",
        "elif problem[1] == \"*\":\n",
        "  result = float(problem[0]) * float(problem[2])\n",
        "elif problem[1] == \":\":\n",
        "  result = float(problem[0]) / float(problem[2])\n",
        "elif problem[1] == \"==\":\n",
        "  result = float(problem[0]) == float(problem[2])\n",
        "\n",
        "if result % 1 == 0:\n",
        "  result = int(result)\n",
        "print(result)"
      ],
      "metadata": {
        "id": "o8zXUyeX8-G4",
        "colab": {
          "base_uri": "https://localhost:8080/"
        },
        "outputId": "1703ecbd-44d5-4071-e26b-44d549dcb59c"
      },
      "execution_count": 46,
      "outputs": [
        {
          "output_type": "stream",
          "name": "stdout",
          "text": [
            "Введите выражение: 4 + 6\n",
            "10\n"
          ]
        }
      ]
    },
    {
      "cell_type": "markdown",
      "source": [
        "# Блок 2: задачи на обработку данных"
      ],
      "metadata": {
        "id": "HkO1aD2F9Iss"
      }
    },
    {
      "cell_type": "markdown",
      "source": [
        "### Задание 6\n",
        "\n",
        "### Фильтрация данных\n",
        "\n",
        "**Образец результата работы программы:**\n",
        "\n",
        "```\n",
        "Laptop\n",
        "Smartphone\n",
        "Tablet\n",
        "```\n",
        "\n",
        "**Условия:**\n",
        "\n",
        "Дан список продуктов в магазине техники:\n",
        "\n",
        "`\"Laptop True\", \"Headphones False\", \"Smartphone True\", \"Tablet True\", \"Speaker False\"`\n",
        "\n",
        "Каждый элемент списка состоит из двух слов:\n",
        "\n",
        "1. тип продукта (`Laptop`)\n",
        "2. его наличие (`True`) или отсутствие (`False`) в магазине\n",
        "\n",
        "Допишите код ниже, чтобы вывести на экран продукты в наличии.\n",
        "\n",
        "Используйте условие: вторая часть элемента списка должна быть равна `True`."
      ],
      "metadata": {
        "id": "pmEBQyIh9Ist"
      }
    },
    {
      "cell_type": "code",
      "execution_count": 52,
      "metadata": {
        "id": "i5vvEmhZ9Isv",
        "colab": {
          "base_uri": "https://localhost:8080/"
        },
        "outputId": "f732b3e4-75e2-4e3a-a1f3-69ee0d9af7fe"
      },
      "outputs": [
        {
          "output_type": "stream",
          "name": "stdout",
          "text": [
            "Laptop\n",
            "Smartphone\n",
            "Tablet\n"
          ]
        }
      ],
      "source": [
        "# Список продуктов\n",
        "products = [\"Laptop True\", \"Headphones False\", \"Smartphone True\", \"Tablet True\", \"Speaker False\"]\n",
        "\n",
        "# Начинаем перебирать список\n",
        "for product in products:\n",
        "  # если вторая часть текущего элемента списка product == True\n",
        "  if product.split()[1] == \"True\":\n",
        "    # выведите на экран первую часть текущего элемента списка product\n",
        "    print(product.split()[0])"
      ]
    },
    {
      "cell_type": "markdown",
      "source": [
        "## Задание 7\n",
        "\n",
        "### Фильтрация по числу\n",
        "\n",
        "**Образец результата работы программы:**\n",
        "\n",
        "```\n",
        "Headphones\n",
        "Smartphone\n",
        "Tablet\n",
        "```\n",
        "\n",
        "**Условия:**\n",
        "\n",
        "Дан список продуктов в магазине техники:\n",
        "\n",
        "`\"Laptop 8\", \"Headphones 12\", \"Smartphone 41\", \"Tablet 10\", \"Speaker 6\"`\n",
        "\n",
        "Каждый элемент списка состоит из двух компонентов:\n",
        "\n",
        "1. тип продукта (`Laptop`)\n",
        "2. количество продуктов данного типа в магазине (`8`)\n",
        "\n",
        "Допишите код ниже, чтобы вывести на экран продукты, количество которых равно или больше 10.\n",
        "\n",
        "Используйте условие: вторая часть элемента списка должна быть равна или больше десяти."
      ],
      "metadata": {
        "id": "NdG5Y_Cg9Isv"
      }
    },
    {
      "cell_type": "code",
      "source": [
        "# Список продуктов\n",
        "num_products = [\"Laptop 8\", \"Headphones 12\", \"Smartphone 41\", \"Tablet 10\", \"Speaker 6\"]\n",
        "\n",
        "# Начинаем перебирать список\n",
        "for product in num_products:\n",
        "  if int(product.split()[1]) >= 10:\n",
        "    print(product.split()[0])"
      ],
      "metadata": {
        "id": "tpsi4s4l9Isw",
        "colab": {
          "base_uri": "https://localhost:8080/"
        },
        "outputId": "2ecd0651-284e-4eed-c1d2-b0d483bee5b4"
      },
      "execution_count": 54,
      "outputs": [
        {
          "output_type": "stream",
          "name": "stdout",
          "text": [
            "Headphones\n",
            "Smartphone\n",
            "Tablet\n"
          ]
        }
      ]
    },
    {
      "cell_type": "markdown",
      "source": [
        "## Задание 8\n",
        "\n",
        "### Изменение списка\n",
        "\n",
        "**Образец результата работы программы:**\n",
        "\n",
        "```\n",
        "`\"Headphones 12\", \"Smartphone 41\", \"Tablet 10\", \"Desktop 16\"`\n",
        "```\n",
        "\n",
        "**Условия:**\n",
        "\n",
        "Дан список новых продуктов для поставки магазин техники:\n",
        "\n",
        "`\"Desktop 16\", \"Mouse 2\", \"Keyboard 4\"`\n",
        "\n",
        "Каждый элемент списка состоит из двух компонентов:\n",
        "\n",
        "1. тип продукта (`Desktop`)\n",
        "2. количество продуктов данного типа в магазине (`16`)\n",
        "\n",
        "Допишите код ниже, чтобы добавить в список `num_products` продукты, количество которых равно или больше 10.\n",
        "\n",
        "Используйте условие и функцию `append`."
      ],
      "metadata": {
        "id": "Tf1rQpab9Isx"
      }
    },
    {
      "cell_type": "code",
      "source": [
        "new_products = [\"Desktop 16\", \"Mouse 2\", \"Keyboard 4\"]\n",
        "\n",
        "num_products = [\"Laptop 8\", \"Headphones 12\", \"Smartphone 41\", \"Tablet 10\", \"Speaker 6\"]\n",
        "\n",
        "for product in new_products:\n",
        "  if int(product.split()[1]) >= 10:\n",
        "    num_products.append(product)\n",
        "print(num_products)\n"
      ],
      "metadata": {
        "id": "LSd3_vPw9Isx",
        "colab": {
          "base_uri": "https://localhost:8080/"
        },
        "outputId": "6b7f3fbd-601e-4ab5-9a1c-bfedc633acf7"
      },
      "execution_count": 60,
      "outputs": [
        {
          "output_type": "stream",
          "name": "stdout",
          "text": [
            "['Laptop 8', 'Headphones 12', 'Smartphone 41', 'Tablet 10', 'Speaker 6', 'Desktop 16']\n"
          ]
        }
      ]
    },
    {
      "cell_type": "markdown",
      "source": [
        "Удалите из `num_products` элементы, количество которых меньше 10.\n",
        "\n",
        "Используйте `remove`. Когда мы используем `remove`, список меняется и в следующей итерации могут вознкнуть конфликты.\n",
        "\n",
        "    Пример:  \n",
        "      Итерация 1: удали третий элемент из списка [1, 2, 3]\n",
        "      Итерация 2: удали третий элемент из списка [1, 2] - ошибка!\n",
        "\n",
        "Поэтому мы создаем временную копию списка `num_products[:]`."
      ],
      "metadata": {
        "id": "FAIsp2TOB1_a"
      }
    },
    {
      "cell_type": "code",
      "source": [
        "for product in num_products[:]: # [:] создает копию списка, чтобы избежать конфликтов\n",
        "  if int(product.split()[1]) < 10:\n",
        "    num_products.remove(product)\n",
        "\n",
        "print(num_products)"
      ],
      "metadata": {
        "id": "Gt-6sSw9B-_f",
        "colab": {
          "base_uri": "https://localhost:8080/"
        },
        "outputId": "40c705ec-65ce-49d8-e8e4-a6b79b4c85d0"
      },
      "execution_count": 59,
      "outputs": [
        {
          "output_type": "stream",
          "name": "stdout",
          "text": [
            "['Headphones 12', 'Smartphone 41', 'Tablet 10', 'Desktop 16']\n"
          ]
        }
      ]
    },
    {
      "cell_type": "markdown",
      "source": [
        "## Задание 9\n",
        "\n",
        "### Фильтрация списка имен\n",
        "\n",
        "**Образец результата работы программы:**\n",
        "\n",
        "```\n",
        "a_k = \"Alex\", \"Chloe\", \"George\", \"Jordan\"\n",
        "l_z = \"Lauren\", \"Tom\"\n",
        "```\n",
        "\n",
        "**Условия:**\n",
        "\n",
        "Дан список имен:\n",
        "\n",
        "`[\"Tom\", \"Chloe\", \"Alex\", \"George\", \"Lauren\", \"Jordan\"]`\n",
        "\n",
        "Создайте два списка и отсортируйте их в алфавитном порядке:\n",
        "\n",
        "1. `a_k`: список имен, начинающихся с букв в диапазоне от `A` до `K` (буквы чувствительны к регистру и ранжируются [как числа] от A до Z и далее от a до z)\n",
        "2. `l_z`: список от `L` до `Z`"
      ],
      "metadata": {
        "id": "JPbwkam09Isx"
      }
    },
    {
      "cell_type": "code",
      "source": [
        "names = [\"Tom\", \"Chloe\", \"Alex\", \"George\", \"Lauren\", \"Jordan\"]\n",
        "\n",
        "# Создайте 2 пустых списка a_k и l_z\n",
        "a_k, l_z = [], []\n",
        "a_k_alphabet = [chr(i) for i in range(ord('A'), ord('K') + 1)]\n",
        "l_z_alphabet = [chr(i) for i in range(ord('L'), ord('Z') + 1)]\n",
        "for name in names:\n",
        "  # Используйте append, чтобы внести в a_k имена от A до K\n",
        "  if name[0] in a_k_alphabet:\n",
        "      a_k.append(name)\n",
        "  # Иначе, добавьте имена в другой список\n",
        "    ### ваш код здесь ###\n",
        "  else:\n",
        "    l_z.append(name)\n",
        "# Используйте sorted, чтобы перезаписать в оба списка отсортированные по алфавиту данные\n",
        "### ваш код здесь ###\n",
        "a_k = sorted(a_k)\n",
        "l_z = sorted(l_z)\n",
        "\n",
        "print(a_k, l_z)"
      ],
      "metadata": {
        "id": "BPzG9mme9Isx",
        "colab": {
          "base_uri": "https://localhost:8080/"
        },
        "outputId": "dc62905b-a560-4047-c004-9cb23f656987"
      },
      "execution_count": 64,
      "outputs": [
        {
          "output_type": "stream",
          "name": "stdout",
          "text": [
            "['Alex', 'Chloe', 'George', 'Jordan'] ['Lauren', 'Tom']\n"
          ]
        }
      ]
    },
    {
      "cell_type": "markdown",
      "source": [
        "## Задание 10\n",
        "\n",
        "### Фильтрация типов\n",
        "\n",
        "**Образец результата работы программы:**\n",
        "\n",
        "```\n",
        "nums = [1, 3, 4]\n",
        "names = [\"apple\", \"banana\", \"kiwi\"]\n",
        "floats = [2.5, 7.6]\n",
        "bools = [True, True, False]\n",
        "```\n",
        "\n",
        "**Условия:**\n",
        "\n",
        "Дан список данных разных типов:\n",
        "\n",
        "`3, 1, \"kiwi\", 7.6, False, True, \"apple\", 2.5, \"banana\", True, 4`\n",
        "\n",
        "Используйте выражение `if isinstance(element, type)`, где `type` - питоновский тип (`int`, `str`...), чтобы создать списки, содержащие элементы одного типа.\n",
        "\n",
        "Отсортируйте списки с помощью `sorted`."
      ],
      "metadata": {
        "id": "_GVE8_lb9Isx"
      }
    },
    {
      "cell_type": "code",
      "source": [
        "mixed_list = [3, 1, \"kiwi\", 7.6, False, True, \"apple\", 2.5, \"banana\", True, 4]\n",
        "\n",
        "# Создайте пустые списки\n",
        "nums = []\n",
        "names = []\n",
        "floats = []\n",
        "bools = []\n",
        "\n",
        "for element in mixed_list:\n",
        "  # Проверьте тип\n",
        "  if isinstance(element, bool):\n",
        "    # Добавьте данные в нужный список\n",
        "    bools.append(element)\n",
        "  # Проверьте остальные типы\n",
        "  elif isinstance(element, str):\n",
        "    names.append(element)\n",
        "  elif isinstance(element, float):\n",
        "    floats.append(element)\n",
        "  elif isinstance(element, int):\n",
        "    nums.append(element)\n",
        "\n",
        "# Отсортируйте списки\n",
        "nums = sorted(nums)\n",
        "names = sorted(names)\n",
        "floats = sorted(floats)\n",
        "bools = sorted(bools)\n",
        "print(nums, names, floats, bools)"
      ],
      "metadata": {
        "id": "wI_V15MM9Isy",
        "colab": {
          "base_uri": "https://localhost:8080/"
        },
        "outputId": "918e0247-8b90-4194-f0e7-115841e87b5f"
      },
      "execution_count": 66,
      "outputs": [
        {
          "output_type": "stream",
          "name": "stdout",
          "text": [
            "[1, 3, 4] ['apple', 'banana', 'kiwi'] [2.5, 7.6] [False, True, True]\n"
          ]
        }
      ]
    }
  ]
}