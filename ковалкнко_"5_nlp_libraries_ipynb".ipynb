{
  "nbformat": 4,
  "nbformat_minor": 0,
  "metadata": {
    "colab": {
      "provenance": [],
      "collapsed_sections": [
        "T3ypiQzM_yon",
        "HsCrxJtaDAIn"
      ],
      "include_colab_link": true
    },
    "kernelspec": {
      "name": "python3",
      "display_name": "Python 3"
    },
    "language_info": {
      "name": "python"
    },
    "widgets": {
      "application/vnd.jupyter.widget-state+json": {
        "993fb496b2a643edb84d43a72211335d": {
          "model_module": "@jupyter-widgets/controls",
          "model_name": "HBoxModel",
          "model_module_version": "1.5.0",
          "state": {
            "_dom_classes": [],
            "_model_module": "@jupyter-widgets/controls",
            "_model_module_version": "1.5.0",
            "_model_name": "HBoxModel",
            "_view_count": null,
            "_view_module": "@jupyter-widgets/controls",
            "_view_module_version": "1.5.0",
            "_view_name": "HBoxView",
            "box_style": "",
            "children": [
              "IPY_MODEL_e801cd0abd024e5898cfea2aca32064d",
              "IPY_MODEL_c0832df1fcbd4560a9f5b2b377ff075e",
              "IPY_MODEL_fb6f115446c54b9a9e3cd777aa3931c8"
            ],
            "layout": "IPY_MODEL_97cbaadd6f5146329a2261c8304f8409"
          }
        },
        "e801cd0abd024e5898cfea2aca32064d": {
          "model_module": "@jupyter-widgets/controls",
          "model_name": "HTMLModel",
          "model_module_version": "1.5.0",
          "state": {
            "_dom_classes": [],
            "_model_module": "@jupyter-widgets/controls",
            "_model_module_version": "1.5.0",
            "_model_name": "HTMLModel",
            "_view_count": null,
            "_view_module": "@jupyter-widgets/controls",
            "_view_module_version": "1.5.0",
            "_view_name": "HTMLView",
            "description": "",
            "description_tooltip": null,
            "layout": "IPY_MODEL_cd164dcc7dda4ffb93b898454c059ac8",
            "placeholder": "​",
            "style": "IPY_MODEL_3f0543255b4944c89e86e6f86093dd19",
            "value": "README.md: 100%"
          }
        },
        "c0832df1fcbd4560a9f5b2b377ff075e": {
          "model_module": "@jupyter-widgets/controls",
          "model_name": "FloatProgressModel",
          "model_module_version": "1.5.0",
          "state": {
            "_dom_classes": [],
            "_model_module": "@jupyter-widgets/controls",
            "_model_module_version": "1.5.0",
            "_model_name": "FloatProgressModel",
            "_view_count": null,
            "_view_module": "@jupyter-widgets/controls",
            "_view_module_version": "1.5.0",
            "_view_name": "ProgressView",
            "bar_style": "success",
            "description": "",
            "description_tooltip": null,
            "layout": "IPY_MODEL_de903a0bef7c46fa8229abe24fc67f22",
            "max": 1721,
            "min": 0,
            "orientation": "horizontal",
            "style": "IPY_MODEL_bb0192263c34462ba63a9fdf6ad54a2c",
            "value": 1721
          }
        },
        "fb6f115446c54b9a9e3cd777aa3931c8": {
          "model_module": "@jupyter-widgets/controls",
          "model_name": "HTMLModel",
          "model_module_version": "1.5.0",
          "state": {
            "_dom_classes": [],
            "_model_module": "@jupyter-widgets/controls",
            "_model_module_version": "1.5.0",
            "_model_name": "HTMLModel",
            "_view_count": null,
            "_view_module": "@jupyter-widgets/controls",
            "_view_module_version": "1.5.0",
            "_view_name": "HTMLView",
            "description": "",
            "description_tooltip": null,
            "layout": "IPY_MODEL_fdcb81eaeee14da7ae5a621b117ac6ed",
            "placeholder": "​",
            "style": "IPY_MODEL_7ccac80e14c24633a02636764e1eb56c",
            "value": " 1.72k/1.72k [00:00&lt;00:00, 26.9kB/s]"
          }
        },
        "97cbaadd6f5146329a2261c8304f8409": {
          "model_module": "@jupyter-widgets/base",
          "model_name": "LayoutModel",
          "model_module_version": "1.2.0",
          "state": {
            "_model_module": "@jupyter-widgets/base",
            "_model_module_version": "1.2.0",
            "_model_name": "LayoutModel",
            "_view_count": null,
            "_view_module": "@jupyter-widgets/base",
            "_view_module_version": "1.2.0",
            "_view_name": "LayoutView",
            "align_content": null,
            "align_items": null,
            "align_self": null,
            "border": null,
            "bottom": null,
            "display": null,
            "flex": null,
            "flex_flow": null,
            "grid_area": null,
            "grid_auto_columns": null,
            "grid_auto_flow": null,
            "grid_auto_rows": null,
            "grid_column": null,
            "grid_gap": null,
            "grid_row": null,
            "grid_template_areas": null,
            "grid_template_columns": null,
            "grid_template_rows": null,
            "height": null,
            "justify_content": null,
            "justify_items": null,
            "left": null,
            "margin": null,
            "max_height": null,
            "max_width": null,
            "min_height": null,
            "min_width": null,
            "object_fit": null,
            "object_position": null,
            "order": null,
            "overflow": null,
            "overflow_x": null,
            "overflow_y": null,
            "padding": null,
            "right": null,
            "top": null,
            "visibility": null,
            "width": null
          }
        },
        "cd164dcc7dda4ffb93b898454c059ac8": {
          "model_module": "@jupyter-widgets/base",
          "model_name": "LayoutModel",
          "model_module_version": "1.2.0",
          "state": {
            "_model_module": "@jupyter-widgets/base",
            "_model_module_version": "1.2.0",
            "_model_name": "LayoutModel",
            "_view_count": null,
            "_view_module": "@jupyter-widgets/base",
            "_view_module_version": "1.2.0",
            "_view_name": "LayoutView",
            "align_content": null,
            "align_items": null,
            "align_self": null,
            "border": null,
            "bottom": null,
            "display": null,
            "flex": null,
            "flex_flow": null,
            "grid_area": null,
            "grid_auto_columns": null,
            "grid_auto_flow": null,
            "grid_auto_rows": null,
            "grid_column": null,
            "grid_gap": null,
            "grid_row": null,
            "grid_template_areas": null,
            "grid_template_columns": null,
            "grid_template_rows": null,
            "height": null,
            "justify_content": null,
            "justify_items": null,
            "left": null,
            "margin": null,
            "max_height": null,
            "max_width": null,
            "min_height": null,
            "min_width": null,
            "object_fit": null,
            "object_position": null,
            "order": null,
            "overflow": null,
            "overflow_x": null,
            "overflow_y": null,
            "padding": null,
            "right": null,
            "top": null,
            "visibility": null,
            "width": null
          }
        },
        "3f0543255b4944c89e86e6f86093dd19": {
          "model_module": "@jupyter-widgets/controls",
          "model_name": "DescriptionStyleModel",
          "model_module_version": "1.5.0",
          "state": {
            "_model_module": "@jupyter-widgets/controls",
            "_model_module_version": "1.5.0",
            "_model_name": "DescriptionStyleModel",
            "_view_count": null,
            "_view_module": "@jupyter-widgets/base",
            "_view_module_version": "1.2.0",
            "_view_name": "StyleView",
            "description_width": ""
          }
        },
        "de903a0bef7c46fa8229abe24fc67f22": {
          "model_module": "@jupyter-widgets/base",
          "model_name": "LayoutModel",
          "model_module_version": "1.2.0",
          "state": {
            "_model_module": "@jupyter-widgets/base",
            "_model_module_version": "1.2.0",
            "_model_name": "LayoutModel",
            "_view_count": null,
            "_view_module": "@jupyter-widgets/base",
            "_view_module_version": "1.2.0",
            "_view_name": "LayoutView",
            "align_content": null,
            "align_items": null,
            "align_self": null,
            "border": null,
            "bottom": null,
            "display": null,
            "flex": null,
            "flex_flow": null,
            "grid_area": null,
            "grid_auto_columns": null,
            "grid_auto_flow": null,
            "grid_auto_rows": null,
            "grid_column": null,
            "grid_gap": null,
            "grid_row": null,
            "grid_template_areas": null,
            "grid_template_columns": null,
            "grid_template_rows": null,
            "height": null,
            "justify_content": null,
            "justify_items": null,
            "left": null,
            "margin": null,
            "max_height": null,
            "max_width": null,
            "min_height": null,
            "min_width": null,
            "object_fit": null,
            "object_position": null,
            "order": null,
            "overflow": null,
            "overflow_x": null,
            "overflow_y": null,
            "padding": null,
            "right": null,
            "top": null,
            "visibility": null,
            "width": null
          }
        },
        "bb0192263c34462ba63a9fdf6ad54a2c": {
          "model_module": "@jupyter-widgets/controls",
          "model_name": "ProgressStyleModel",
          "model_module_version": "1.5.0",
          "state": {
            "_model_module": "@jupyter-widgets/controls",
            "_model_module_version": "1.5.0",
            "_model_name": "ProgressStyleModel",
            "_view_count": null,
            "_view_module": "@jupyter-widgets/base",
            "_view_module_version": "1.2.0",
            "_view_name": "StyleView",
            "bar_color": null,
            "description_width": ""
          }
        },
        "fdcb81eaeee14da7ae5a621b117ac6ed": {
          "model_module": "@jupyter-widgets/base",
          "model_name": "LayoutModel",
          "model_module_version": "1.2.0",
          "state": {
            "_model_module": "@jupyter-widgets/base",
            "_model_module_version": "1.2.0",
            "_model_name": "LayoutModel",
            "_view_count": null,
            "_view_module": "@jupyter-widgets/base",
            "_view_module_version": "1.2.0",
            "_view_name": "LayoutView",
            "align_content": null,
            "align_items": null,
            "align_self": null,
            "border": null,
            "bottom": null,
            "display": null,
            "flex": null,
            "flex_flow": null,
            "grid_area": null,
            "grid_auto_columns": null,
            "grid_auto_flow": null,
            "grid_auto_rows": null,
            "grid_column": null,
            "grid_gap": null,
            "grid_row": null,
            "grid_template_areas": null,
            "grid_template_columns": null,
            "grid_template_rows": null,
            "height": null,
            "justify_content": null,
            "justify_items": null,
            "left": null,
            "margin": null,
            "max_height": null,
            "max_width": null,
            "min_height": null,
            "min_width": null,
            "object_fit": null,
            "object_position": null,
            "order": null,
            "overflow": null,
            "overflow_x": null,
            "overflow_y": null,
            "padding": null,
            "right": null,
            "top": null,
            "visibility": null,
            "width": null
          }
        },
        "7ccac80e14c24633a02636764e1eb56c": {
          "model_module": "@jupyter-widgets/controls",
          "model_name": "DescriptionStyleModel",
          "model_module_version": "1.5.0",
          "state": {
            "_model_module": "@jupyter-widgets/controls",
            "_model_module_version": "1.5.0",
            "_model_name": "DescriptionStyleModel",
            "_view_count": null,
            "_view_module": "@jupyter-widgets/base",
            "_view_module_version": "1.2.0",
            "_view_name": "StyleView",
            "description_width": ""
          }
        },
        "a3aee2a91a5b4df5b2bc3e78467e4e9a": {
          "model_module": "@jupyter-widgets/controls",
          "model_name": "HBoxModel",
          "model_module_version": "1.5.0",
          "state": {
            "_dom_classes": [],
            "_model_module": "@jupyter-widgets/controls",
            "_model_module_version": "1.5.0",
            "_model_name": "HBoxModel",
            "_view_count": null,
            "_view_module": "@jupyter-widgets/controls",
            "_view_module_version": "1.5.0",
            "_view_name": "HBoxView",
            "box_style": "",
            "children": [
              "IPY_MODEL_40c93c1721db4159b85c9777026252a3",
              "IPY_MODEL_182fa88da270489095380f84604cfeca",
              "IPY_MODEL_0fd3648c17f049cf82a37e16009143ad"
            ],
            "layout": "IPY_MODEL_c018b1be3d8d415b97bd0050d7afc0de"
          }
        },
        "40c93c1721db4159b85c9777026252a3": {
          "model_module": "@jupyter-widgets/controls",
          "model_name": "HTMLModel",
          "model_module_version": "1.5.0",
          "state": {
            "_dom_classes": [],
            "_model_module": "@jupyter-widgets/controls",
            "_model_module_version": "1.5.0",
            "_model_name": "HTMLModel",
            "_view_count": null,
            "_view_module": "@jupyter-widgets/controls",
            "_view_module_version": "1.5.0",
            "_view_name": "HTMLView",
            "description": "",
            "description_tooltip": null,
            "layout": "IPY_MODEL_adb3c42727df4ff3b5a5c02158d47a78",
            "placeholder": "​",
            "style": "IPY_MODEL_5851a61177de40be88cd9b3aa5c432a2",
            "value": "train_df.csv: 100%"
          }
        },
        "182fa88da270489095380f84604cfeca": {
          "model_module": "@jupyter-widgets/controls",
          "model_name": "FloatProgressModel",
          "model_module_version": "1.5.0",
          "state": {
            "_dom_classes": [],
            "_model_module": "@jupyter-widgets/controls",
            "_model_module_version": "1.5.0",
            "_model_name": "FloatProgressModel",
            "_view_count": null,
            "_view_module": "@jupyter-widgets/controls",
            "_view_module_version": "1.5.0",
            "_view_name": "ProgressView",
            "bar_style": "success",
            "description": "",
            "description_tooltip": null,
            "layout": "IPY_MODEL_6fb2a4db4b604971ab89b7d59b4550ca",
            "max": 3555178,
            "min": 0,
            "orientation": "horizontal",
            "style": "IPY_MODEL_f8dfdd91f20845b8b819d0311f378084",
            "value": 3555178
          }
        },
        "0fd3648c17f049cf82a37e16009143ad": {
          "model_module": "@jupyter-widgets/controls",
          "model_name": "HTMLModel",
          "model_module_version": "1.5.0",
          "state": {
            "_dom_classes": [],
            "_model_module": "@jupyter-widgets/controls",
            "_model_module_version": "1.5.0",
            "_model_name": "HTMLModel",
            "_view_count": null,
            "_view_module": "@jupyter-widgets/controls",
            "_view_module_version": "1.5.0",
            "_view_name": "HTMLView",
            "description": "",
            "description_tooltip": null,
            "layout": "IPY_MODEL_095151b80fe34a52b9389407edb06e78",
            "placeholder": "​",
            "style": "IPY_MODEL_6d31b82c393e4ed29e85c131a47e06ed",
            "value": " 3.56M/3.56M [00:00&lt;00:00, 27.4MB/s]"
          }
        },
        "c018b1be3d8d415b97bd0050d7afc0de": {
          "model_module": "@jupyter-widgets/base",
          "model_name": "LayoutModel",
          "model_module_version": "1.2.0",
          "state": {
            "_model_module": "@jupyter-widgets/base",
            "_model_module_version": "1.2.0",
            "_model_name": "LayoutModel",
            "_view_count": null,
            "_view_module": "@jupyter-widgets/base",
            "_view_module_version": "1.2.0",
            "_view_name": "LayoutView",
            "align_content": null,
            "align_items": null,
            "align_self": null,
            "border": null,
            "bottom": null,
            "display": null,
            "flex": null,
            "flex_flow": null,
            "grid_area": null,
            "grid_auto_columns": null,
            "grid_auto_flow": null,
            "grid_auto_rows": null,
            "grid_column": null,
            "grid_gap": null,
            "grid_row": null,
            "grid_template_areas": null,
            "grid_template_columns": null,
            "grid_template_rows": null,
            "height": null,
            "justify_content": null,
            "justify_items": null,
            "left": null,
            "margin": null,
            "max_height": null,
            "max_width": null,
            "min_height": null,
            "min_width": null,
            "object_fit": null,
            "object_position": null,
            "order": null,
            "overflow": null,
            "overflow_x": null,
            "overflow_y": null,
            "padding": null,
            "right": null,
            "top": null,
            "visibility": null,
            "width": null
          }
        },
        "adb3c42727df4ff3b5a5c02158d47a78": {
          "model_module": "@jupyter-widgets/base",
          "model_name": "LayoutModel",
          "model_module_version": "1.2.0",
          "state": {
            "_model_module": "@jupyter-widgets/base",
            "_model_module_version": "1.2.0",
            "_model_name": "LayoutModel",
            "_view_count": null,
            "_view_module": "@jupyter-widgets/base",
            "_view_module_version": "1.2.0",
            "_view_name": "LayoutView",
            "align_content": null,
            "align_items": null,
            "align_self": null,
            "border": null,
            "bottom": null,
            "display": null,
            "flex": null,
            "flex_flow": null,
            "grid_area": null,
            "grid_auto_columns": null,
            "grid_auto_flow": null,
            "grid_auto_rows": null,
            "grid_column": null,
            "grid_gap": null,
            "grid_row": null,
            "grid_template_areas": null,
            "grid_template_columns": null,
            "grid_template_rows": null,
            "height": null,
            "justify_content": null,
            "justify_items": null,
            "left": null,
            "margin": null,
            "max_height": null,
            "max_width": null,
            "min_height": null,
            "min_width": null,
            "object_fit": null,
            "object_position": null,
            "order": null,
            "overflow": null,
            "overflow_x": null,
            "overflow_y": null,
            "padding": null,
            "right": null,
            "top": null,
            "visibility": null,
            "width": null
          }
        },
        "5851a61177de40be88cd9b3aa5c432a2": {
          "model_module": "@jupyter-widgets/controls",
          "model_name": "DescriptionStyleModel",
          "model_module_version": "1.5.0",
          "state": {
            "_model_module": "@jupyter-widgets/controls",
            "_model_module_version": "1.5.0",
            "_model_name": "DescriptionStyleModel",
            "_view_count": null,
            "_view_module": "@jupyter-widgets/base",
            "_view_module_version": "1.2.0",
            "_view_name": "StyleView",
            "description_width": ""
          }
        },
        "6fb2a4db4b604971ab89b7d59b4550ca": {
          "model_module": "@jupyter-widgets/base",
          "model_name": "LayoutModel",
          "model_module_version": "1.2.0",
          "state": {
            "_model_module": "@jupyter-widgets/base",
            "_model_module_version": "1.2.0",
            "_model_name": "LayoutModel",
            "_view_count": null,
            "_view_module": "@jupyter-widgets/base",
            "_view_module_version": "1.2.0",
            "_view_name": "LayoutView",
            "align_content": null,
            "align_items": null,
            "align_self": null,
            "border": null,
            "bottom": null,
            "display": null,
            "flex": null,
            "flex_flow": null,
            "grid_area": null,
            "grid_auto_columns": null,
            "grid_auto_flow": null,
            "grid_auto_rows": null,
            "grid_column": null,
            "grid_gap": null,
            "grid_row": null,
            "grid_template_areas": null,
            "grid_template_columns": null,
            "grid_template_rows": null,
            "height": null,
            "justify_content": null,
            "justify_items": null,
            "left": null,
            "margin": null,
            "max_height": null,
            "max_width": null,
            "min_height": null,
            "min_width": null,
            "object_fit": null,
            "object_position": null,
            "order": null,
            "overflow": null,
            "overflow_x": null,
            "overflow_y": null,
            "padding": null,
            "right": null,
            "top": null,
            "visibility": null,
            "width": null
          }
        },
        "f8dfdd91f20845b8b819d0311f378084": {
          "model_module": "@jupyter-widgets/controls",
          "model_name": "ProgressStyleModel",
          "model_module_version": "1.5.0",
          "state": {
            "_model_module": "@jupyter-widgets/controls",
            "_model_module_version": "1.5.0",
            "_model_name": "ProgressStyleModel",
            "_view_count": null,
            "_view_module": "@jupyter-widgets/base",
            "_view_module_version": "1.2.0",
            "_view_name": "StyleView",
            "bar_color": null,
            "description_width": ""
          }
        },
        "095151b80fe34a52b9389407edb06e78": {
          "model_module": "@jupyter-widgets/base",
          "model_name": "LayoutModel",
          "model_module_version": "1.2.0",
          "state": {
            "_model_module": "@jupyter-widgets/base",
            "_model_module_version": "1.2.0",
            "_model_name": "LayoutModel",
            "_view_count": null,
            "_view_module": "@jupyter-widgets/base",
            "_view_module_version": "1.2.0",
            "_view_name": "LayoutView",
            "align_content": null,
            "align_items": null,
            "align_self": null,
            "border": null,
            "bottom": null,
            "display": null,
            "flex": null,
            "flex_flow": null,
            "grid_area": null,
            "grid_auto_columns": null,
            "grid_auto_flow": null,
            "grid_auto_rows": null,
            "grid_column": null,
            "grid_gap": null,
            "grid_row": null,
            "grid_template_areas": null,
            "grid_template_columns": null,
            "grid_template_rows": null,
            "height": null,
            "justify_content": null,
            "justify_items": null,
            "left": null,
            "margin": null,
            "max_height": null,
            "max_width": null,
            "min_height": null,
            "min_width": null,
            "object_fit": null,
            "object_position": null,
            "order": null,
            "overflow": null,
            "overflow_x": null,
            "overflow_y": null,
            "padding": null,
            "right": null,
            "top": null,
            "visibility": null,
            "width": null
          }
        },
        "6d31b82c393e4ed29e85c131a47e06ed": {
          "model_module": "@jupyter-widgets/controls",
          "model_name": "DescriptionStyleModel",
          "model_module_version": "1.5.0",
          "state": {
            "_model_module": "@jupyter-widgets/controls",
            "_model_module_version": "1.5.0",
            "_model_name": "DescriptionStyleModel",
            "_view_count": null,
            "_view_module": "@jupyter-widgets/base",
            "_view_module_version": "1.2.0",
            "_view_name": "StyleView",
            "description_width": ""
          }
        },
        "df93ff1859b24b6a86c653f4e319076e": {
          "model_module": "@jupyter-widgets/controls",
          "model_name": "HBoxModel",
          "model_module_version": "1.5.0",
          "state": {
            "_dom_classes": [],
            "_model_module": "@jupyter-widgets/controls",
            "_model_module_version": "1.5.0",
            "_model_name": "HBoxModel",
            "_view_count": null,
            "_view_module": "@jupyter-widgets/controls",
            "_view_module_version": "1.5.0",
            "_view_name": "HBoxView",
            "box_style": "",
            "children": [
              "IPY_MODEL_18b85cb4d3a14036b77f616bf7dc34db",
              "IPY_MODEL_b7ce8f17af0a43378e74bbf165214567",
              "IPY_MODEL_fb70155ebb484f3da4e3e74496f15061"
            ],
            "layout": "IPY_MODEL_985ffb0a56c148faa3982c699a4f64f5"
          }
        },
        "18b85cb4d3a14036b77f616bf7dc34db": {
          "model_module": "@jupyter-widgets/controls",
          "model_name": "HTMLModel",
          "model_module_version": "1.5.0",
          "state": {
            "_dom_classes": [],
            "_model_module": "@jupyter-widgets/controls",
            "_model_module_version": "1.5.0",
            "_model_name": "HTMLModel",
            "_view_count": null,
            "_view_module": "@jupyter-widgets/controls",
            "_view_module_version": "1.5.0",
            "_view_name": "HTMLView",
            "description": "",
            "description_tooltip": null,
            "layout": "IPY_MODEL_25f2bdf3e1b449ab828997e0fe261106",
            "placeholder": "​",
            "style": "IPY_MODEL_de371f7758d7451b90bceda14dc241bc",
            "value": "val_df.csv: 100%"
          }
        },
        "b7ce8f17af0a43378e74bbf165214567": {
          "model_module": "@jupyter-widgets/controls",
          "model_name": "FloatProgressModel",
          "model_module_version": "1.5.0",
          "state": {
            "_dom_classes": [],
            "_model_module": "@jupyter-widgets/controls",
            "_model_module_version": "1.5.0",
            "_model_name": "FloatProgressModel",
            "_view_count": null,
            "_view_module": "@jupyter-widgets/controls",
            "_view_module_version": "1.5.0",
            "_view_name": "ProgressView",
            "bar_style": "success",
            "description": "",
            "description_tooltip": null,
            "layout": "IPY_MODEL_439c4785199a4ec18458057659efbcb1",
            "max": 600751,
            "min": 0,
            "orientation": "horizontal",
            "style": "IPY_MODEL_718d12027d0b46d594dc9c3c7389d731",
            "value": 600751
          }
        },
        "fb70155ebb484f3da4e3e74496f15061": {
          "model_module": "@jupyter-widgets/controls",
          "model_name": "HTMLModel",
          "model_module_version": "1.5.0",
          "state": {
            "_dom_classes": [],
            "_model_module": "@jupyter-widgets/controls",
            "_model_module_version": "1.5.0",
            "_model_name": "HTMLModel",
            "_view_count": null,
            "_view_module": "@jupyter-widgets/controls",
            "_view_module_version": "1.5.0",
            "_view_name": "HTMLView",
            "description": "",
            "description_tooltip": null,
            "layout": "IPY_MODEL_a10e9ea4f820497e93fd76fb43148f74",
            "placeholder": "​",
            "style": "IPY_MODEL_7c2bfe2b790447dcaa79503818b9d7c1",
            "value": " 601k/601k [00:00&lt;00:00, 8.49MB/s]"
          }
        },
        "985ffb0a56c148faa3982c699a4f64f5": {
          "model_module": "@jupyter-widgets/base",
          "model_name": "LayoutModel",
          "model_module_version": "1.2.0",
          "state": {
            "_model_module": "@jupyter-widgets/base",
            "_model_module_version": "1.2.0",
            "_model_name": "LayoutModel",
            "_view_count": null,
            "_view_module": "@jupyter-widgets/base",
            "_view_module_version": "1.2.0",
            "_view_name": "LayoutView",
            "align_content": null,
            "align_items": null,
            "align_self": null,
            "border": null,
            "bottom": null,
            "display": null,
            "flex": null,
            "flex_flow": null,
            "grid_area": null,
            "grid_auto_columns": null,
            "grid_auto_flow": null,
            "grid_auto_rows": null,
            "grid_column": null,
            "grid_gap": null,
            "grid_row": null,
            "grid_template_areas": null,
            "grid_template_columns": null,
            "grid_template_rows": null,
            "height": null,
            "justify_content": null,
            "justify_items": null,
            "left": null,
            "margin": null,
            "max_height": null,
            "max_width": null,
            "min_height": null,
            "min_width": null,
            "object_fit": null,
            "object_position": null,
            "order": null,
            "overflow": null,
            "overflow_x": null,
            "overflow_y": null,
            "padding": null,
            "right": null,
            "top": null,
            "visibility": null,
            "width": null
          }
        },
        "25f2bdf3e1b449ab828997e0fe261106": {
          "model_module": "@jupyter-widgets/base",
          "model_name": "LayoutModel",
          "model_module_version": "1.2.0",
          "state": {
            "_model_module": "@jupyter-widgets/base",
            "_model_module_version": "1.2.0",
            "_model_name": "LayoutModel",
            "_view_count": null,
            "_view_module": "@jupyter-widgets/base",
            "_view_module_version": "1.2.0",
            "_view_name": "LayoutView",
            "align_content": null,
            "align_items": null,
            "align_self": null,
            "border": null,
            "bottom": null,
            "display": null,
            "flex": null,
            "flex_flow": null,
            "grid_area": null,
            "grid_auto_columns": null,
            "grid_auto_flow": null,
            "grid_auto_rows": null,
            "grid_column": null,
            "grid_gap": null,
            "grid_row": null,
            "grid_template_areas": null,
            "grid_template_columns": null,
            "grid_template_rows": null,
            "height": null,
            "justify_content": null,
            "justify_items": null,
            "left": null,
            "margin": null,
            "max_height": null,
            "max_width": null,
            "min_height": null,
            "min_width": null,
            "object_fit": null,
            "object_position": null,
            "order": null,
            "overflow": null,
            "overflow_x": null,
            "overflow_y": null,
            "padding": null,
            "right": null,
            "top": null,
            "visibility": null,
            "width": null
          }
        },
        "de371f7758d7451b90bceda14dc241bc": {
          "model_module": "@jupyter-widgets/controls",
          "model_name": "DescriptionStyleModel",
          "model_module_version": "1.5.0",
          "state": {
            "_model_module": "@jupyter-widgets/controls",
            "_model_module_version": "1.5.0",
            "_model_name": "DescriptionStyleModel",
            "_view_count": null,
            "_view_module": "@jupyter-widgets/base",
            "_view_module_version": "1.2.0",
            "_view_name": "StyleView",
            "description_width": ""
          }
        },
        "439c4785199a4ec18458057659efbcb1": {
          "model_module": "@jupyter-widgets/base",
          "model_name": "LayoutModel",
          "model_module_version": "1.2.0",
          "state": {
            "_model_module": "@jupyter-widgets/base",
            "_model_module_version": "1.2.0",
            "_model_name": "LayoutModel",
            "_view_count": null,
            "_view_module": "@jupyter-widgets/base",
            "_view_module_version": "1.2.0",
            "_view_name": "LayoutView",
            "align_content": null,
            "align_items": null,
            "align_self": null,
            "border": null,
            "bottom": null,
            "display": null,
            "flex": null,
            "flex_flow": null,
            "grid_area": null,
            "grid_auto_columns": null,
            "grid_auto_flow": null,
            "grid_auto_rows": null,
            "grid_column": null,
            "grid_gap": null,
            "grid_row": null,
            "grid_template_areas": null,
            "grid_template_columns": null,
            "grid_template_rows": null,
            "height": null,
            "justify_content": null,
            "justify_items": null,
            "left": null,
            "margin": null,
            "max_height": null,
            "max_width": null,
            "min_height": null,
            "min_width": null,
            "object_fit": null,
            "object_position": null,
            "order": null,
            "overflow": null,
            "overflow_x": null,
            "overflow_y": null,
            "padding": null,
            "right": null,
            "top": null,
            "visibility": null,
            "width": null
          }
        },
        "718d12027d0b46d594dc9c3c7389d731": {
          "model_module": "@jupyter-widgets/controls",
          "model_name": "ProgressStyleModel",
          "model_module_version": "1.5.0",
          "state": {
            "_model_module": "@jupyter-widgets/controls",
            "_model_module_version": "1.5.0",
            "_model_name": "ProgressStyleModel",
            "_view_count": null,
            "_view_module": "@jupyter-widgets/base",
            "_view_module_version": "1.2.0",
            "_view_name": "StyleView",
            "bar_color": null,
            "description_width": ""
          }
        },
        "a10e9ea4f820497e93fd76fb43148f74": {
          "model_module": "@jupyter-widgets/base",
          "model_name": "LayoutModel",
          "model_module_version": "1.2.0",
          "state": {
            "_model_module": "@jupyter-widgets/base",
            "_model_module_version": "1.2.0",
            "_model_name": "LayoutModel",
            "_view_count": null,
            "_view_module": "@jupyter-widgets/base",
            "_view_module_version": "1.2.0",
            "_view_name": "LayoutView",
            "align_content": null,
            "align_items": null,
            "align_self": null,
            "border": null,
            "bottom": null,
            "display": null,
            "flex": null,
            "flex_flow": null,
            "grid_area": null,
            "grid_auto_columns": null,
            "grid_auto_flow": null,
            "grid_auto_rows": null,
            "grid_column": null,
            "grid_gap": null,
            "grid_row": null,
            "grid_template_areas": null,
            "grid_template_columns": null,
            "grid_template_rows": null,
            "height": null,
            "justify_content": null,
            "justify_items": null,
            "left": null,
            "margin": null,
            "max_height": null,
            "max_width": null,
            "min_height": null,
            "min_width": null,
            "object_fit": null,
            "object_position": null,
            "order": null,
            "overflow": null,
            "overflow_x": null,
            "overflow_y": null,
            "padding": null,
            "right": null,
            "top": null,
            "visibility": null,
            "width": null
          }
        },
        "7c2bfe2b790447dcaa79503818b9d7c1": {
          "model_module": "@jupyter-widgets/controls",
          "model_name": "DescriptionStyleModel",
          "model_module_version": "1.5.0",
          "state": {
            "_model_module": "@jupyter-widgets/controls",
            "_model_module_version": "1.5.0",
            "_model_name": "DescriptionStyleModel",
            "_view_count": null,
            "_view_module": "@jupyter-widgets/base",
            "_view_module_version": "1.2.0",
            "_view_name": "StyleView",
            "description_width": ""
          }
        },
        "c6f8e9488da64247970ae2dbe881c83d": {
          "model_module": "@jupyter-widgets/controls",
          "model_name": "HBoxModel",
          "model_module_version": "1.5.0",
          "state": {
            "_dom_classes": [],
            "_model_module": "@jupyter-widgets/controls",
            "_model_module_version": "1.5.0",
            "_model_name": "HBoxModel",
            "_view_count": null,
            "_view_module": "@jupyter-widgets/controls",
            "_view_module_version": "1.5.0",
            "_view_name": "HBoxView",
            "box_style": "",
            "children": [
              "IPY_MODEL_8c9fe3a76f764f10b65bcf759068fb0d",
              "IPY_MODEL_b1adb495745443749e8e785ab57af73a",
              "IPY_MODEL_cc4edaccbf6849cd88ff2c04834a3d3d"
            ],
            "layout": "IPY_MODEL_aad7e5c403f94d8d8b8e355f803a9928"
          }
        },
        "8c9fe3a76f764f10b65bcf759068fb0d": {
          "model_module": "@jupyter-widgets/controls",
          "model_name": "HTMLModel",
          "model_module_version": "1.5.0",
          "state": {
            "_dom_classes": [],
            "_model_module": "@jupyter-widgets/controls",
            "_model_module_version": "1.5.0",
            "_model_name": "HTMLModel",
            "_view_count": null,
            "_view_module": "@jupyter-widgets/controls",
            "_view_module_version": "1.5.0",
            "_view_name": "HTMLView",
            "description": "",
            "description_tooltip": null,
            "layout": "IPY_MODEL_425e4cee89f24b49a4b475266e888721",
            "placeholder": "​",
            "style": "IPY_MODEL_f7fc5142cc34477685e25fe02d413fa5",
            "value": "test_df.csv: 100%"
          }
        },
        "b1adb495745443749e8e785ab57af73a": {
          "model_module": "@jupyter-widgets/controls",
          "model_name": "FloatProgressModel",
          "model_module_version": "1.5.0",
          "state": {
            "_dom_classes": [],
            "_model_module": "@jupyter-widgets/controls",
            "_model_module_version": "1.5.0",
            "_model_name": "FloatProgressModel",
            "_view_count": null,
            "_view_module": "@jupyter-widgets/controls",
            "_view_module_version": "1.5.0",
            "_view_name": "ProgressView",
            "bar_style": "success",
            "description": "",
            "description_tooltip": null,
            "layout": "IPY_MODEL_49fa7288e0a942328dbaf0f61e082199",
            "max": 585991,
            "min": 0,
            "orientation": "horizontal",
            "style": "IPY_MODEL_8f978bae66144699a5d94eb92adace36",
            "value": 585991
          }
        },
        "cc4edaccbf6849cd88ff2c04834a3d3d": {
          "model_module": "@jupyter-widgets/controls",
          "model_name": "HTMLModel",
          "model_module_version": "1.5.0",
          "state": {
            "_dom_classes": [],
            "_model_module": "@jupyter-widgets/controls",
            "_model_module_version": "1.5.0",
            "_model_name": "HTMLModel",
            "_view_count": null,
            "_view_module": "@jupyter-widgets/controls",
            "_view_module_version": "1.5.0",
            "_view_name": "HTMLView",
            "description": "",
            "description_tooltip": null,
            "layout": "IPY_MODEL_f1b1e26dd08049ca97af754fa0e25ffe",
            "placeholder": "​",
            "style": "IPY_MODEL_9ed57ae1218142feae6f3e88ab38deaf",
            "value": " 586k/586k [00:00&lt;00:00, 8.52MB/s]"
          }
        },
        "aad7e5c403f94d8d8b8e355f803a9928": {
          "model_module": "@jupyter-widgets/base",
          "model_name": "LayoutModel",
          "model_module_version": "1.2.0",
          "state": {
            "_model_module": "@jupyter-widgets/base",
            "_model_module_version": "1.2.0",
            "_model_name": "LayoutModel",
            "_view_count": null,
            "_view_module": "@jupyter-widgets/base",
            "_view_module_version": "1.2.0",
            "_view_name": "LayoutView",
            "align_content": null,
            "align_items": null,
            "align_self": null,
            "border": null,
            "bottom": null,
            "display": null,
            "flex": null,
            "flex_flow": null,
            "grid_area": null,
            "grid_auto_columns": null,
            "grid_auto_flow": null,
            "grid_auto_rows": null,
            "grid_column": null,
            "grid_gap": null,
            "grid_row": null,
            "grid_template_areas": null,
            "grid_template_columns": null,
            "grid_template_rows": null,
            "height": null,
            "justify_content": null,
            "justify_items": null,
            "left": null,
            "margin": null,
            "max_height": null,
            "max_width": null,
            "min_height": null,
            "min_width": null,
            "object_fit": null,
            "object_position": null,
            "order": null,
            "overflow": null,
            "overflow_x": null,
            "overflow_y": null,
            "padding": null,
            "right": null,
            "top": null,
            "visibility": null,
            "width": null
          }
        },
        "425e4cee89f24b49a4b475266e888721": {
          "model_module": "@jupyter-widgets/base",
          "model_name": "LayoutModel",
          "model_module_version": "1.2.0",
          "state": {
            "_model_module": "@jupyter-widgets/base",
            "_model_module_version": "1.2.0",
            "_model_name": "LayoutModel",
            "_view_count": null,
            "_view_module": "@jupyter-widgets/base",
            "_view_module_version": "1.2.0",
            "_view_name": "LayoutView",
            "align_content": null,
            "align_items": null,
            "align_self": null,
            "border": null,
            "bottom": null,
            "display": null,
            "flex": null,
            "flex_flow": null,
            "grid_area": null,
            "grid_auto_columns": null,
            "grid_auto_flow": null,
            "grid_auto_rows": null,
            "grid_column": null,
            "grid_gap": null,
            "grid_row": null,
            "grid_template_areas": null,
            "grid_template_columns": null,
            "grid_template_rows": null,
            "height": null,
            "justify_content": null,
            "justify_items": null,
            "left": null,
            "margin": null,
            "max_height": null,
            "max_width": null,
            "min_height": null,
            "min_width": null,
            "object_fit": null,
            "object_position": null,
            "order": null,
            "overflow": null,
            "overflow_x": null,
            "overflow_y": null,
            "padding": null,
            "right": null,
            "top": null,
            "visibility": null,
            "width": null
          }
        },
        "f7fc5142cc34477685e25fe02d413fa5": {
          "model_module": "@jupyter-widgets/controls",
          "model_name": "DescriptionStyleModel",
          "model_module_version": "1.5.0",
          "state": {
            "_model_module": "@jupyter-widgets/controls",
            "_model_module_version": "1.5.0",
            "_model_name": "DescriptionStyleModel",
            "_view_count": null,
            "_view_module": "@jupyter-widgets/base",
            "_view_module_version": "1.2.0",
            "_view_name": "StyleView",
            "description_width": ""
          }
        },
        "49fa7288e0a942328dbaf0f61e082199": {
          "model_module": "@jupyter-widgets/base",
          "model_name": "LayoutModel",
          "model_module_version": "1.2.0",
          "state": {
            "_model_module": "@jupyter-widgets/base",
            "_model_module_version": "1.2.0",
            "_model_name": "LayoutModel",
            "_view_count": null,
            "_view_module": "@jupyter-widgets/base",
            "_view_module_version": "1.2.0",
            "_view_name": "LayoutView",
            "align_content": null,
            "align_items": null,
            "align_self": null,
            "border": null,
            "bottom": null,
            "display": null,
            "flex": null,
            "flex_flow": null,
            "grid_area": null,
            "grid_auto_columns": null,
            "grid_auto_flow": null,
            "grid_auto_rows": null,
            "grid_column": null,
            "grid_gap": null,
            "grid_row": null,
            "grid_template_areas": null,
            "grid_template_columns": null,
            "grid_template_rows": null,
            "height": null,
            "justify_content": null,
            "justify_items": null,
            "left": null,
            "margin": null,
            "max_height": null,
            "max_width": null,
            "min_height": null,
            "min_width": null,
            "object_fit": null,
            "object_position": null,
            "order": null,
            "overflow": null,
            "overflow_x": null,
            "overflow_y": null,
            "padding": null,
            "right": null,
            "top": null,
            "visibility": null,
            "width": null
          }
        },
        "8f978bae66144699a5d94eb92adace36": {
          "model_module": "@jupyter-widgets/controls",
          "model_name": "ProgressStyleModel",
          "model_module_version": "1.5.0",
          "state": {
            "_model_module": "@jupyter-widgets/controls",
            "_model_module_version": "1.5.0",
            "_model_name": "ProgressStyleModel",
            "_view_count": null,
            "_view_module": "@jupyter-widgets/base",
            "_view_module_version": "1.2.0",
            "_view_name": "StyleView",
            "bar_color": null,
            "description_width": ""
          }
        },
        "f1b1e26dd08049ca97af754fa0e25ffe": {
          "model_module": "@jupyter-widgets/base",
          "model_name": "LayoutModel",
          "model_module_version": "1.2.0",
          "state": {
            "_model_module": "@jupyter-widgets/base",
            "_model_module_version": "1.2.0",
            "_model_name": "LayoutModel",
            "_view_count": null,
            "_view_module": "@jupyter-widgets/base",
            "_view_module_version": "1.2.0",
            "_view_name": "LayoutView",
            "align_content": null,
            "align_items": null,
            "align_self": null,
            "border": null,
            "bottom": null,
            "display": null,
            "flex": null,
            "flex_flow": null,
            "grid_area": null,
            "grid_auto_columns": null,
            "grid_auto_flow": null,
            "grid_auto_rows": null,
            "grid_column": null,
            "grid_gap": null,
            "grid_row": null,
            "grid_template_areas": null,
            "grid_template_columns": null,
            "grid_template_rows": null,
            "height": null,
            "justify_content": null,
            "justify_items": null,
            "left": null,
            "margin": null,
            "max_height": null,
            "max_width": null,
            "min_height": null,
            "min_width": null,
            "object_fit": null,
            "object_position": null,
            "order": null,
            "overflow": null,
            "overflow_x": null,
            "overflow_y": null,
            "padding": null,
            "right": null,
            "top": null,
            "visibility": null,
            "width": null
          }
        },
        "9ed57ae1218142feae6f3e88ab38deaf": {
          "model_module": "@jupyter-widgets/controls",
          "model_name": "DescriptionStyleModel",
          "model_module_version": "1.5.0",
          "state": {
            "_model_module": "@jupyter-widgets/controls",
            "_model_module_version": "1.5.0",
            "_model_name": "DescriptionStyleModel",
            "_view_count": null,
            "_view_module": "@jupyter-widgets/base",
            "_view_module_version": "1.2.0",
            "_view_name": "StyleView",
            "description_width": ""
          }
        },
        "09cface263124f96aa88e32ec24187f5": {
          "model_module": "@jupyter-widgets/controls",
          "model_name": "HBoxModel",
          "model_module_version": "1.5.0",
          "state": {
            "_dom_classes": [],
            "_model_module": "@jupyter-widgets/controls",
            "_model_module_version": "1.5.0",
            "_model_name": "HBoxModel",
            "_view_count": null,
            "_view_module": "@jupyter-widgets/controls",
            "_view_module_version": "1.5.0",
            "_view_name": "HBoxView",
            "box_style": "",
            "children": [
              "IPY_MODEL_b84104a6896b4ec4ac4190f8faa1e947",
              "IPY_MODEL_6078d8ea25984907a6977a5adce9ce17",
              "IPY_MODEL_03514319d27c4796a37461a015229cfc"
            ],
            "layout": "IPY_MODEL_8d40b33f432e41988697fc8be034e235"
          }
        },
        "b84104a6896b4ec4ac4190f8faa1e947": {
          "model_module": "@jupyter-widgets/controls",
          "model_name": "HTMLModel",
          "model_module_version": "1.5.0",
          "state": {
            "_dom_classes": [],
            "_model_module": "@jupyter-widgets/controls",
            "_model_module_version": "1.5.0",
            "_model_name": "HTMLModel",
            "_view_count": null,
            "_view_module": "@jupyter-widgets/controls",
            "_view_module_version": "1.5.0",
            "_view_name": "HTMLView",
            "description": "",
            "description_tooltip": null,
            "layout": "IPY_MODEL_8863476a82e14d15b31996fbfb9de639",
            "placeholder": "​",
            "style": "IPY_MODEL_3005537e9f404a818b780affd982f5b3",
            "value": "Generating train split: 100%"
          }
        },
        "6078d8ea25984907a6977a5adce9ce17": {
          "model_module": "@jupyter-widgets/controls",
          "model_name": "FloatProgressModel",
          "model_module_version": "1.5.0",
          "state": {
            "_dom_classes": [],
            "_model_module": "@jupyter-widgets/controls",
            "_model_module_version": "1.5.0",
            "_model_name": "FloatProgressModel",
            "_view_count": null,
            "_view_module": "@jupyter-widgets/controls",
            "_view_module_version": "1.5.0",
            "_view_name": "ProgressView",
            "bar_style": "success",
            "description": "",
            "description_tooltip": null,
            "layout": "IPY_MODEL_c4be699ae87842c2ac1785366f1ea4ed",
            "max": 31232,
            "min": 0,
            "orientation": "horizontal",
            "style": "IPY_MODEL_75f3522f845e4e92b179d9eef454e027",
            "value": 31232
          }
        },
        "03514319d27c4796a37461a015229cfc": {
          "model_module": "@jupyter-widgets/controls",
          "model_name": "HTMLModel",
          "model_module_version": "1.5.0",
          "state": {
            "_dom_classes": [],
            "_model_module": "@jupyter-widgets/controls",
            "_model_module_version": "1.5.0",
            "_model_name": "HTMLModel",
            "_view_count": null,
            "_view_module": "@jupyter-widgets/controls",
            "_view_module_version": "1.5.0",
            "_view_name": "HTMLView",
            "description": "",
            "description_tooltip": null,
            "layout": "IPY_MODEL_2dbec9838dbd4b47923f6469a830dd3d",
            "placeholder": "​",
            "style": "IPY_MODEL_0d35bc0d8a4a47619fbac84bcaca0c38",
            "value": " 31232/31232 [00:00&lt;00:00, 57062.47 examples/s]"
          }
        },
        "8d40b33f432e41988697fc8be034e235": {
          "model_module": "@jupyter-widgets/base",
          "model_name": "LayoutModel",
          "model_module_version": "1.2.0",
          "state": {
            "_model_module": "@jupyter-widgets/base",
            "_model_module_version": "1.2.0",
            "_model_name": "LayoutModel",
            "_view_count": null,
            "_view_module": "@jupyter-widgets/base",
            "_view_module_version": "1.2.0",
            "_view_name": "LayoutView",
            "align_content": null,
            "align_items": null,
            "align_self": null,
            "border": null,
            "bottom": null,
            "display": null,
            "flex": null,
            "flex_flow": null,
            "grid_area": null,
            "grid_auto_columns": null,
            "grid_auto_flow": null,
            "grid_auto_rows": null,
            "grid_column": null,
            "grid_gap": null,
            "grid_row": null,
            "grid_template_areas": null,
            "grid_template_columns": null,
            "grid_template_rows": null,
            "height": null,
            "justify_content": null,
            "justify_items": null,
            "left": null,
            "margin": null,
            "max_height": null,
            "max_width": null,
            "min_height": null,
            "min_width": null,
            "object_fit": null,
            "object_position": null,
            "order": null,
            "overflow": null,
            "overflow_x": null,
            "overflow_y": null,
            "padding": null,
            "right": null,
            "top": null,
            "visibility": null,
            "width": null
          }
        },
        "8863476a82e14d15b31996fbfb9de639": {
          "model_module": "@jupyter-widgets/base",
          "model_name": "LayoutModel",
          "model_module_version": "1.2.0",
          "state": {
            "_model_module": "@jupyter-widgets/base",
            "_model_module_version": "1.2.0",
            "_model_name": "LayoutModel",
            "_view_count": null,
            "_view_module": "@jupyter-widgets/base",
            "_view_module_version": "1.2.0",
            "_view_name": "LayoutView",
            "align_content": null,
            "align_items": null,
            "align_self": null,
            "border": null,
            "bottom": null,
            "display": null,
            "flex": null,
            "flex_flow": null,
            "grid_area": null,
            "grid_auto_columns": null,
            "grid_auto_flow": null,
            "grid_auto_rows": null,
            "grid_column": null,
            "grid_gap": null,
            "grid_row": null,
            "grid_template_areas": null,
            "grid_template_columns": null,
            "grid_template_rows": null,
            "height": null,
            "justify_content": null,
            "justify_items": null,
            "left": null,
            "margin": null,
            "max_height": null,
            "max_width": null,
            "min_height": null,
            "min_width": null,
            "object_fit": null,
            "object_position": null,
            "order": null,
            "overflow": null,
            "overflow_x": null,
            "overflow_y": null,
            "padding": null,
            "right": null,
            "top": null,
            "visibility": null,
            "width": null
          }
        },
        "3005537e9f404a818b780affd982f5b3": {
          "model_module": "@jupyter-widgets/controls",
          "model_name": "DescriptionStyleModel",
          "model_module_version": "1.5.0",
          "state": {
            "_model_module": "@jupyter-widgets/controls",
            "_model_module_version": "1.5.0",
            "_model_name": "DescriptionStyleModel",
            "_view_count": null,
            "_view_module": "@jupyter-widgets/base",
            "_view_module_version": "1.2.0",
            "_view_name": "StyleView",
            "description_width": ""
          }
        },
        "c4be699ae87842c2ac1785366f1ea4ed": {
          "model_module": "@jupyter-widgets/base",
          "model_name": "LayoutModel",
          "model_module_version": "1.2.0",
          "state": {
            "_model_module": "@jupyter-widgets/base",
            "_model_module_version": "1.2.0",
            "_model_name": "LayoutModel",
            "_view_count": null,
            "_view_module": "@jupyter-widgets/base",
            "_view_module_version": "1.2.0",
            "_view_name": "LayoutView",
            "align_content": null,
            "align_items": null,
            "align_self": null,
            "border": null,
            "bottom": null,
            "display": null,
            "flex": null,
            "flex_flow": null,
            "grid_area": null,
            "grid_auto_columns": null,
            "grid_auto_flow": null,
            "grid_auto_rows": null,
            "grid_column": null,
            "grid_gap": null,
            "grid_row": null,
            "grid_template_areas": null,
            "grid_template_columns": null,
            "grid_template_rows": null,
            "height": null,
            "justify_content": null,
            "justify_items": null,
            "left": null,
            "margin": null,
            "max_height": null,
            "max_width": null,
            "min_height": null,
            "min_width": null,
            "object_fit": null,
            "object_position": null,
            "order": null,
            "overflow": null,
            "overflow_x": null,
            "overflow_y": null,
            "padding": null,
            "right": null,
            "top": null,
            "visibility": null,
            "width": null
          }
        },
        "75f3522f845e4e92b179d9eef454e027": {
          "model_module": "@jupyter-widgets/controls",
          "model_name": "ProgressStyleModel",
          "model_module_version": "1.5.0",
          "state": {
            "_model_module": "@jupyter-widgets/controls",
            "_model_module_version": "1.5.0",
            "_model_name": "ProgressStyleModel",
            "_view_count": null,
            "_view_module": "@jupyter-widgets/base",
            "_view_module_version": "1.2.0",
            "_view_name": "StyleView",
            "bar_color": null,
            "description_width": ""
          }
        },
        "2dbec9838dbd4b47923f6469a830dd3d": {
          "model_module": "@jupyter-widgets/base",
          "model_name": "LayoutModel",
          "model_module_version": "1.2.0",
          "state": {
            "_model_module": "@jupyter-widgets/base",
            "_model_module_version": "1.2.0",
            "_model_name": "LayoutModel",
            "_view_count": null,
            "_view_module": "@jupyter-widgets/base",
            "_view_module_version": "1.2.0",
            "_view_name": "LayoutView",
            "align_content": null,
            "align_items": null,
            "align_self": null,
            "border": null,
            "bottom": null,
            "display": null,
            "flex": null,
            "flex_flow": null,
            "grid_area": null,
            "grid_auto_columns": null,
            "grid_auto_flow": null,
            "grid_auto_rows": null,
            "grid_column": null,
            "grid_gap": null,
            "grid_row": null,
            "grid_template_areas": null,
            "grid_template_columns": null,
            "grid_template_rows": null,
            "height": null,
            "justify_content": null,
            "justify_items": null,
            "left": null,
            "margin": null,
            "max_height": null,
            "max_width": null,
            "min_height": null,
            "min_width": null,
            "object_fit": null,
            "object_position": null,
            "order": null,
            "overflow": null,
            "overflow_x": null,
            "overflow_y": null,
            "padding": null,
            "right": null,
            "top": null,
            "visibility": null,
            "width": null
          }
        },
        "0d35bc0d8a4a47619fbac84bcaca0c38": {
          "model_module": "@jupyter-widgets/controls",
          "model_name": "DescriptionStyleModel",
          "model_module_version": "1.5.0",
          "state": {
            "_model_module": "@jupyter-widgets/controls",
            "_model_module_version": "1.5.0",
            "_model_name": "DescriptionStyleModel",
            "_view_count": null,
            "_view_module": "@jupyter-widgets/base",
            "_view_module_version": "1.2.0",
            "_view_name": "StyleView",
            "description_width": ""
          }
        },
        "6520a1394a0c40639fbef2d859b88514": {
          "model_module": "@jupyter-widgets/controls",
          "model_name": "HBoxModel",
          "model_module_version": "1.5.0",
          "state": {
            "_dom_classes": [],
            "_model_module": "@jupyter-widgets/controls",
            "_model_module_version": "1.5.0",
            "_model_name": "HBoxModel",
            "_view_count": null,
            "_view_module": "@jupyter-widgets/controls",
            "_view_module_version": "1.5.0",
            "_view_name": "HBoxView",
            "box_style": "",
            "children": [
              "IPY_MODEL_9e7c45e14278487eb82d1b0fee4eff40",
              "IPY_MODEL_7f1b484eac0840bcab2bc45841152739",
              "IPY_MODEL_96455e833e944f13855c5859c38f4fca"
            ],
            "layout": "IPY_MODEL_409315be8f114f9da54c5a7626a4695b"
          }
        },
        "9e7c45e14278487eb82d1b0fee4eff40": {
          "model_module": "@jupyter-widgets/controls",
          "model_name": "HTMLModel",
          "model_module_version": "1.5.0",
          "state": {
            "_dom_classes": [],
            "_model_module": "@jupyter-widgets/controls",
            "_model_module_version": "1.5.0",
            "_model_name": "HTMLModel",
            "_view_count": null,
            "_view_module": "@jupyter-widgets/controls",
            "_view_module_version": "1.5.0",
            "_view_name": "HTMLView",
            "description": "",
            "description_tooltip": null,
            "layout": "IPY_MODEL_ec6eb35339a74d53b2708ae72a323264",
            "placeholder": "​",
            "style": "IPY_MODEL_05dd3fd5ab0544fcbc444873fd6643fb",
            "value": "Generating validation split: 100%"
          }
        },
        "7f1b484eac0840bcab2bc45841152739": {
          "model_module": "@jupyter-widgets/controls",
          "model_name": "FloatProgressModel",
          "model_module_version": "1.5.0",
          "state": {
            "_dom_classes": [],
            "_model_module": "@jupyter-widgets/controls",
            "_model_module_version": "1.5.0",
            "_model_name": "FloatProgressModel",
            "_view_count": null,
            "_view_module": "@jupyter-widgets/controls",
            "_view_module_version": "1.5.0",
            "_view_name": "ProgressView",
            "bar_style": "success",
            "description": "",
            "description_tooltip": null,
            "layout": "IPY_MODEL_8aa349f22e16483ab50b694afffc4012",
            "max": 5205,
            "min": 0,
            "orientation": "horizontal",
            "style": "IPY_MODEL_747b34646d5945559380098449009311",
            "value": 5205
          }
        },
        "96455e833e944f13855c5859c38f4fca": {
          "model_module": "@jupyter-widgets/controls",
          "model_name": "HTMLModel",
          "model_module_version": "1.5.0",
          "state": {
            "_dom_classes": [],
            "_model_module": "@jupyter-widgets/controls",
            "_model_module_version": "1.5.0",
            "_model_name": "HTMLModel",
            "_view_count": null,
            "_view_module": "@jupyter-widgets/controls",
            "_view_module_version": "1.5.0",
            "_view_name": "HTMLView",
            "description": "",
            "description_tooltip": null,
            "layout": "IPY_MODEL_898c6f36062d44dc8ff0bbbb2e76cdbf",
            "placeholder": "​",
            "style": "IPY_MODEL_01fdf8d05791446e87de8be55e0bfe63",
            "value": " 5205/5205 [00:00&lt;00:00, 55888.69 examples/s]"
          }
        },
        "409315be8f114f9da54c5a7626a4695b": {
          "model_module": "@jupyter-widgets/base",
          "model_name": "LayoutModel",
          "model_module_version": "1.2.0",
          "state": {
            "_model_module": "@jupyter-widgets/base",
            "_model_module_version": "1.2.0",
            "_model_name": "LayoutModel",
            "_view_count": null,
            "_view_module": "@jupyter-widgets/base",
            "_view_module_version": "1.2.0",
            "_view_name": "LayoutView",
            "align_content": null,
            "align_items": null,
            "align_self": null,
            "border": null,
            "bottom": null,
            "display": null,
            "flex": null,
            "flex_flow": null,
            "grid_area": null,
            "grid_auto_columns": null,
            "grid_auto_flow": null,
            "grid_auto_rows": null,
            "grid_column": null,
            "grid_gap": null,
            "grid_row": null,
            "grid_template_areas": null,
            "grid_template_columns": null,
            "grid_template_rows": null,
            "height": null,
            "justify_content": null,
            "justify_items": null,
            "left": null,
            "margin": null,
            "max_height": null,
            "max_width": null,
            "min_height": null,
            "min_width": null,
            "object_fit": null,
            "object_position": null,
            "order": null,
            "overflow": null,
            "overflow_x": null,
            "overflow_y": null,
            "padding": null,
            "right": null,
            "top": null,
            "visibility": null,
            "width": null
          }
        },
        "ec6eb35339a74d53b2708ae72a323264": {
          "model_module": "@jupyter-widgets/base",
          "model_name": "LayoutModel",
          "model_module_version": "1.2.0",
          "state": {
            "_model_module": "@jupyter-widgets/base",
            "_model_module_version": "1.2.0",
            "_model_name": "LayoutModel",
            "_view_count": null,
            "_view_module": "@jupyter-widgets/base",
            "_view_module_version": "1.2.0",
            "_view_name": "LayoutView",
            "align_content": null,
            "align_items": null,
            "align_self": null,
            "border": null,
            "bottom": null,
            "display": null,
            "flex": null,
            "flex_flow": null,
            "grid_area": null,
            "grid_auto_columns": null,
            "grid_auto_flow": null,
            "grid_auto_rows": null,
            "grid_column": null,
            "grid_gap": null,
            "grid_row": null,
            "grid_template_areas": null,
            "grid_template_columns": null,
            "grid_template_rows": null,
            "height": null,
            "justify_content": null,
            "justify_items": null,
            "left": null,
            "margin": null,
            "max_height": null,
            "max_width": null,
            "min_height": null,
            "min_width": null,
            "object_fit": null,
            "object_position": null,
            "order": null,
            "overflow": null,
            "overflow_x": null,
            "overflow_y": null,
            "padding": null,
            "right": null,
            "top": null,
            "visibility": null,
            "width": null
          }
        },
        "05dd3fd5ab0544fcbc444873fd6643fb": {
          "model_module": "@jupyter-widgets/controls",
          "model_name": "DescriptionStyleModel",
          "model_module_version": "1.5.0",
          "state": {
            "_model_module": "@jupyter-widgets/controls",
            "_model_module_version": "1.5.0",
            "_model_name": "DescriptionStyleModel",
            "_view_count": null,
            "_view_module": "@jupyter-widgets/base",
            "_view_module_version": "1.2.0",
            "_view_name": "StyleView",
            "description_width": ""
          }
        },
        "8aa349f22e16483ab50b694afffc4012": {
          "model_module": "@jupyter-widgets/base",
          "model_name": "LayoutModel",
          "model_module_version": "1.2.0",
          "state": {
            "_model_module": "@jupyter-widgets/base",
            "_model_module_version": "1.2.0",
            "_model_name": "LayoutModel",
            "_view_count": null,
            "_view_module": "@jupyter-widgets/base",
            "_view_module_version": "1.2.0",
            "_view_name": "LayoutView",
            "align_content": null,
            "align_items": null,
            "align_self": null,
            "border": null,
            "bottom": null,
            "display": null,
            "flex": null,
            "flex_flow": null,
            "grid_area": null,
            "grid_auto_columns": null,
            "grid_auto_flow": null,
            "grid_auto_rows": null,
            "grid_column": null,
            "grid_gap": null,
            "grid_row": null,
            "grid_template_areas": null,
            "grid_template_columns": null,
            "grid_template_rows": null,
            "height": null,
            "justify_content": null,
            "justify_items": null,
            "left": null,
            "margin": null,
            "max_height": null,
            "max_width": null,
            "min_height": null,
            "min_width": null,
            "object_fit": null,
            "object_position": null,
            "order": null,
            "overflow": null,
            "overflow_x": null,
            "overflow_y": null,
            "padding": null,
            "right": null,
            "top": null,
            "visibility": null,
            "width": null
          }
        },
        "747b34646d5945559380098449009311": {
          "model_module": "@jupyter-widgets/controls",
          "model_name": "ProgressStyleModel",
          "model_module_version": "1.5.0",
          "state": {
            "_model_module": "@jupyter-widgets/controls",
            "_model_module_version": "1.5.0",
            "_model_name": "ProgressStyleModel",
            "_view_count": null,
            "_view_module": "@jupyter-widgets/base",
            "_view_module_version": "1.2.0",
            "_view_name": "StyleView",
            "bar_color": null,
            "description_width": ""
          }
        },
        "898c6f36062d44dc8ff0bbbb2e76cdbf": {
          "model_module": "@jupyter-widgets/base",
          "model_name": "LayoutModel",
          "model_module_version": "1.2.0",
          "state": {
            "_model_module": "@jupyter-widgets/base",
            "_model_module_version": "1.2.0",
            "_model_name": "LayoutModel",
            "_view_count": null,
            "_view_module": "@jupyter-widgets/base",
            "_view_module_version": "1.2.0",
            "_view_name": "LayoutView",
            "align_content": null,
            "align_items": null,
            "align_self": null,
            "border": null,
            "bottom": null,
            "display": null,
            "flex": null,
            "flex_flow": null,
            "grid_area": null,
            "grid_auto_columns": null,
            "grid_auto_flow": null,
            "grid_auto_rows": null,
            "grid_column": null,
            "grid_gap": null,
            "grid_row": null,
            "grid_template_areas": null,
            "grid_template_columns": null,
            "grid_template_rows": null,
            "height": null,
            "justify_content": null,
            "justify_items": null,
            "left": null,
            "margin": null,
            "max_height": null,
            "max_width": null,
            "min_height": null,
            "min_width": null,
            "object_fit": null,
            "object_position": null,
            "order": null,
            "overflow": null,
            "overflow_x": null,
            "overflow_y": null,
            "padding": null,
            "right": null,
            "top": null,
            "visibility": null,
            "width": null
          }
        },
        "01fdf8d05791446e87de8be55e0bfe63": {
          "model_module": "@jupyter-widgets/controls",
          "model_name": "DescriptionStyleModel",
          "model_module_version": "1.5.0",
          "state": {
            "_model_module": "@jupyter-widgets/controls",
            "_model_module_version": "1.5.0",
            "_model_name": "DescriptionStyleModel",
            "_view_count": null,
            "_view_module": "@jupyter-widgets/base",
            "_view_module_version": "1.2.0",
            "_view_name": "StyleView",
            "description_width": ""
          }
        },
        "7f7cfd85f58d4e64a77a1d64f9b62a64": {
          "model_module": "@jupyter-widgets/controls",
          "model_name": "HBoxModel",
          "model_module_version": "1.5.0",
          "state": {
            "_dom_classes": [],
            "_model_module": "@jupyter-widgets/controls",
            "_model_module_version": "1.5.0",
            "_model_name": "HBoxModel",
            "_view_count": null,
            "_view_module": "@jupyter-widgets/controls",
            "_view_module_version": "1.5.0",
            "_view_name": "HBoxView",
            "box_style": "",
            "children": [
              "IPY_MODEL_630481a2196f4205ae2d69d82ca4c9ef",
              "IPY_MODEL_b6682e42e397424ea2230bfa8af833ff",
              "IPY_MODEL_624a29f1b87c4741a723b6b40313c01e"
            ],
            "layout": "IPY_MODEL_b130f03735ec47768521b076a49d56aa"
          }
        },
        "630481a2196f4205ae2d69d82ca4c9ef": {
          "model_module": "@jupyter-widgets/controls",
          "model_name": "HTMLModel",
          "model_module_version": "1.5.0",
          "state": {
            "_dom_classes": [],
            "_model_module": "@jupyter-widgets/controls",
            "_model_module_version": "1.5.0",
            "_model_name": "HTMLModel",
            "_view_count": null,
            "_view_module": "@jupyter-widgets/controls",
            "_view_module_version": "1.5.0",
            "_view_name": "HTMLView",
            "description": "",
            "description_tooltip": null,
            "layout": "IPY_MODEL_5e6ae1d6aef949cf90edbfa33073ed1d",
            "placeholder": "​",
            "style": "IPY_MODEL_aa879916ae4847a8971385b840589db9",
            "value": "Generating test split: 100%"
          }
        },
        "b6682e42e397424ea2230bfa8af833ff": {
          "model_module": "@jupyter-widgets/controls",
          "model_name": "FloatProgressModel",
          "model_module_version": "1.5.0",
          "state": {
            "_dom_classes": [],
            "_model_module": "@jupyter-widgets/controls",
            "_model_module_version": "1.5.0",
            "_model_name": "FloatProgressModel",
            "_view_count": null,
            "_view_module": "@jupyter-widgets/controls",
            "_view_module_version": "1.5.0",
            "_view_name": "ProgressView",
            "bar_style": "success",
            "description": "",
            "description_tooltip": null,
            "layout": "IPY_MODEL_cecce9166c0d44a7871397a84abc1a10",
            "max": 5206,
            "min": 0,
            "orientation": "horizontal",
            "style": "IPY_MODEL_7bb5cbb945344e5aa5940eed58a9f3ba",
            "value": 5206
          }
        },
        "624a29f1b87c4741a723b6b40313c01e": {
          "model_module": "@jupyter-widgets/controls",
          "model_name": "HTMLModel",
          "model_module_version": "1.5.0",
          "state": {
            "_dom_classes": [],
            "_model_module": "@jupyter-widgets/controls",
            "_model_module_version": "1.5.0",
            "_model_name": "HTMLModel",
            "_view_count": null,
            "_view_module": "@jupyter-widgets/controls",
            "_view_module_version": "1.5.0",
            "_view_name": "HTMLView",
            "description": "",
            "description_tooltip": null,
            "layout": "IPY_MODEL_fc488fdcbb2c403b9892001a3fcd8826",
            "placeholder": "​",
            "style": "IPY_MODEL_f7d9900e2ef741f8b20a218f8bcd66c5",
            "value": " 5206/5206 [00:00&lt;00:00, 41237.50 examples/s]"
          }
        },
        "b130f03735ec47768521b076a49d56aa": {
          "model_module": "@jupyter-widgets/base",
          "model_name": "LayoutModel",
          "model_module_version": "1.2.0",
          "state": {
            "_model_module": "@jupyter-widgets/base",
            "_model_module_version": "1.2.0",
            "_model_name": "LayoutModel",
            "_view_count": null,
            "_view_module": "@jupyter-widgets/base",
            "_view_module_version": "1.2.0",
            "_view_name": "LayoutView",
            "align_content": null,
            "align_items": null,
            "align_self": null,
            "border": null,
            "bottom": null,
            "display": null,
            "flex": null,
            "flex_flow": null,
            "grid_area": null,
            "grid_auto_columns": null,
            "grid_auto_flow": null,
            "grid_auto_rows": null,
            "grid_column": null,
            "grid_gap": null,
            "grid_row": null,
            "grid_template_areas": null,
            "grid_template_columns": null,
            "grid_template_rows": null,
            "height": null,
            "justify_content": null,
            "justify_items": null,
            "left": null,
            "margin": null,
            "max_height": null,
            "max_width": null,
            "min_height": null,
            "min_width": null,
            "object_fit": null,
            "object_position": null,
            "order": null,
            "overflow": null,
            "overflow_x": null,
            "overflow_y": null,
            "padding": null,
            "right": null,
            "top": null,
            "visibility": null,
            "width": null
          }
        },
        "5e6ae1d6aef949cf90edbfa33073ed1d": {
          "model_module": "@jupyter-widgets/base",
          "model_name": "LayoutModel",
          "model_module_version": "1.2.0",
          "state": {
            "_model_module": "@jupyter-widgets/base",
            "_model_module_version": "1.2.0",
            "_model_name": "LayoutModel",
            "_view_count": null,
            "_view_module": "@jupyter-widgets/base",
            "_view_module_version": "1.2.0",
            "_view_name": "LayoutView",
            "align_content": null,
            "align_items": null,
            "align_self": null,
            "border": null,
            "bottom": null,
            "display": null,
            "flex": null,
            "flex_flow": null,
            "grid_area": null,
            "grid_auto_columns": null,
            "grid_auto_flow": null,
            "grid_auto_rows": null,
            "grid_column": null,
            "grid_gap": null,
            "grid_row": null,
            "grid_template_areas": null,
            "grid_template_columns": null,
            "grid_template_rows": null,
            "height": null,
            "justify_content": null,
            "justify_items": null,
            "left": null,
            "margin": null,
            "max_height": null,
            "max_width": null,
            "min_height": null,
            "min_width": null,
            "object_fit": null,
            "object_position": null,
            "order": null,
            "overflow": null,
            "overflow_x": null,
            "overflow_y": null,
            "padding": null,
            "right": null,
            "top": null,
            "visibility": null,
            "width": null
          }
        },
        "aa879916ae4847a8971385b840589db9": {
          "model_module": "@jupyter-widgets/controls",
          "model_name": "DescriptionStyleModel",
          "model_module_version": "1.5.0",
          "state": {
            "_model_module": "@jupyter-widgets/controls",
            "_model_module_version": "1.5.0",
            "_model_name": "DescriptionStyleModel",
            "_view_count": null,
            "_view_module": "@jupyter-widgets/base",
            "_view_module_version": "1.2.0",
            "_view_name": "StyleView",
            "description_width": ""
          }
        },
        "cecce9166c0d44a7871397a84abc1a10": {
          "model_module": "@jupyter-widgets/base",
          "model_name": "LayoutModel",
          "model_module_version": "1.2.0",
          "state": {
            "_model_module": "@jupyter-widgets/base",
            "_model_module_version": "1.2.0",
            "_model_name": "LayoutModel",
            "_view_count": null,
            "_view_module": "@jupyter-widgets/base",
            "_view_module_version": "1.2.0",
            "_view_name": "LayoutView",
            "align_content": null,
            "align_items": null,
            "align_self": null,
            "border": null,
            "bottom": null,
            "display": null,
            "flex": null,
            "flex_flow": null,
            "grid_area": null,
            "grid_auto_columns": null,
            "grid_auto_flow": null,
            "grid_auto_rows": null,
            "grid_column": null,
            "grid_gap": null,
            "grid_row": null,
            "grid_template_areas": null,
            "grid_template_columns": null,
            "grid_template_rows": null,
            "height": null,
            "justify_content": null,
            "justify_items": null,
            "left": null,
            "margin": null,
            "max_height": null,
            "max_width": null,
            "min_height": null,
            "min_width": null,
            "object_fit": null,
            "object_position": null,
            "order": null,
            "overflow": null,
            "overflow_x": null,
            "overflow_y": null,
            "padding": null,
            "right": null,
            "top": null,
            "visibility": null,
            "width": null
          }
        },
        "7bb5cbb945344e5aa5940eed58a9f3ba": {
          "model_module": "@jupyter-widgets/controls",
          "model_name": "ProgressStyleModel",
          "model_module_version": "1.5.0",
          "state": {
            "_model_module": "@jupyter-widgets/controls",
            "_model_module_version": "1.5.0",
            "_model_name": "ProgressStyleModel",
            "_view_count": null,
            "_view_module": "@jupyter-widgets/base",
            "_view_module_version": "1.2.0",
            "_view_name": "StyleView",
            "bar_color": null,
            "description_width": ""
          }
        },
        "fc488fdcbb2c403b9892001a3fcd8826": {
          "model_module": "@jupyter-widgets/base",
          "model_name": "LayoutModel",
          "model_module_version": "1.2.0",
          "state": {
            "_model_module": "@jupyter-widgets/base",
            "_model_module_version": "1.2.0",
            "_model_name": "LayoutModel",
            "_view_count": null,
            "_view_module": "@jupyter-widgets/base",
            "_view_module_version": "1.2.0",
            "_view_name": "LayoutView",
            "align_content": null,
            "align_items": null,
            "align_self": null,
            "border": null,
            "bottom": null,
            "display": null,
            "flex": null,
            "flex_flow": null,
            "grid_area": null,
            "grid_auto_columns": null,
            "grid_auto_flow": null,
            "grid_auto_rows": null,
            "grid_column": null,
            "grid_gap": null,
            "grid_row": null,
            "grid_template_areas": null,
            "grid_template_columns": null,
            "grid_template_rows": null,
            "height": null,
            "justify_content": null,
            "justify_items": null,
            "left": null,
            "margin": null,
            "max_height": null,
            "max_width": null,
            "min_height": null,
            "min_width": null,
            "object_fit": null,
            "object_position": null,
            "order": null,
            "overflow": null,
            "overflow_x": null,
            "overflow_y": null,
            "padding": null,
            "right": null,
            "top": null,
            "visibility": null,
            "width": null
          }
        },
        "f7d9900e2ef741f8b20a218f8bcd66c5": {
          "model_module": "@jupyter-widgets/controls",
          "model_name": "DescriptionStyleModel",
          "model_module_version": "1.5.0",
          "state": {
            "_model_module": "@jupyter-widgets/controls",
            "_model_module_version": "1.5.0",
            "_model_name": "DescriptionStyleModel",
            "_view_count": null,
            "_view_module": "@jupyter-widgets/base",
            "_view_module_version": "1.2.0",
            "_view_name": "StyleView",
            "description_width": ""
          }
        }
      }
    }
  },
  "cells": [
    {
      "cell_type": "markdown",
      "metadata": {
        "id": "view-in-github",
        "colab_type": "text"
      },
      "source": [
        "<a href=\"https://colab.research.google.com/github/emkoval/domashka/blob/main/%D0%BA%D0%BE%D0%B2%D0%B0%D0%BB%D0%BA%D0%BD%D0%BA%D0%BE_%225_nlp_libraries_ipynb%22.ipynb\" target=\"_parent\"><img src=\"https://colab.research.google.com/assets/colab-badge.svg\" alt=\"Open In Colab\"/></a>"
      ]
    },
    {
      "cell_type": "markdown",
      "source": [
        "# Подготовка\n",
        "В этом воркбуке мы познакомимся с библиотеками для обработки естественного языка и отработаем цикл FOR."
      ],
      "metadata": {
        "id": "T3ypiQzM_yon"
      }
    },
    {
      "cell_type": "markdown",
      "source": [
        "**HuggingFace Datasets**\n",
        "\n",
        "HuggingFace - платформа для работы с моделями с архитектурой Transformer для обработки текстов и не только!\n",
        "\n",
        "Datasets дает доступ к коллекциям данных и позволяет создавать свои наборы для машинного обучения.\n",
        "\n",
        "`pip install` - команда shell для загрузки библиотеки\n",
        "\n",
        "`-q` - параметр \"quiet\", не выводит не экран подробную информацию о процессе загрузки библиотеки\n",
        "\n",
        "`!` - символ для объявления shell-команд"
      ],
      "metadata": {
        "id": "Zoavyuv3Bfax"
      }
    },
    {
      "cell_type": "code",
      "source": [
        "!pip install -q datasets"
      ],
      "metadata": {
        "id": "IDkAQDPE4Hin",
        "colab": {
          "base_uri": "https://localhost:8080/"
        },
        "outputId": "b0e84ecf-1870-41f4-c15b-b831ee68c6c3"
      },
      "execution_count": 1,
      "outputs": [
        {
          "output_type": "stream",
          "name": "stdout",
          "text": [
            "\u001b[?25l   \u001b[90m━━━━━━━━━━━━━━━━━━━━━━━━━━━━━━━━━━━━━━━━\u001b[0m \u001b[32m0.0/480.6 kB\u001b[0m \u001b[31m?\u001b[0m eta \u001b[36m-:--:--\u001b[0m\r\u001b[2K   \u001b[90m━━━━━━━━━━━━━━━━━━━━━━━━━━━━━━━━━━━━━━━━\u001b[0m \u001b[32m480.6/480.6 kB\u001b[0m \u001b[31m15.9 MB/s\u001b[0m eta \u001b[36m0:00:00\u001b[0m\n",
            "\u001b[2K   \u001b[90m━━━━━━━━━━━━━━━━━━━━━━━━━━━━━━━━━━━━━━━━\u001b[0m \u001b[32m116.3/116.3 kB\u001b[0m \u001b[31m6.5 MB/s\u001b[0m eta \u001b[36m0:00:00\u001b[0m\n",
            "\u001b[2K   \u001b[90m━━━━━━━━━━━━━━━━━━━━━━━━━━━━━━━━━━━━━━━━\u001b[0m \u001b[32m179.3/179.3 kB\u001b[0m \u001b[31m7.8 MB/s\u001b[0m eta \u001b[36m0:00:00\u001b[0m\n",
            "\u001b[2K   \u001b[90m━━━━━━━━━━━━━━━━━━━━━━━━━━━━━━━━━━━━━━━━\u001b[0m \u001b[32m134.8/134.8 kB\u001b[0m \u001b[31m4.8 MB/s\u001b[0m eta \u001b[36m0:00:00\u001b[0m\n",
            "\u001b[2K   \u001b[90m━━━━━━━━━━━━━━━━━━━━━━━━━━━━━━━━━━━━━━━━\u001b[0m \u001b[32m194.1/194.1 kB\u001b[0m \u001b[31m6.1 MB/s\u001b[0m eta \u001b[36m0:00:00\u001b[0m\n",
            "\u001b[?25h\u001b[31mERROR: pip's dependency resolver does not currently take into account all the packages that are installed. This behaviour is the source of the following dependency conflicts.\n",
            "gcsfs 2024.10.0 requires fsspec==2024.10.0, but you have fsspec 2024.9.0 which is incompatible.\u001b[0m\u001b[31m\n",
            "\u001b[0m"
          ]
        }
      ]
    },
    {
      "cell_type": "markdown",
      "source": [
        "Загрузим датасет для анализа тональности текстов"
      ],
      "metadata": {
        "id": "dTikHZH4CaFo"
      }
    },
    {
      "cell_type": "code",
      "source": [
        "from datasets import load_dataset\n",
        "\n",
        "dataset = load_dataset(\"Sp1786/multiclass-sentiment-analysis-dataset\")"
      ],
      "metadata": {
        "colab": {
          "base_uri": "https://localhost:8080/",
          "height": 0,
          "referenced_widgets": [
            "993fb496b2a643edb84d43a72211335d",
            "e801cd0abd024e5898cfea2aca32064d",
            "c0832df1fcbd4560a9f5b2b377ff075e",
            "fb6f115446c54b9a9e3cd777aa3931c8",
            "97cbaadd6f5146329a2261c8304f8409",
            "cd164dcc7dda4ffb93b898454c059ac8",
            "3f0543255b4944c89e86e6f86093dd19",
            "de903a0bef7c46fa8229abe24fc67f22",
            "bb0192263c34462ba63a9fdf6ad54a2c",
            "fdcb81eaeee14da7ae5a621b117ac6ed",
            "7ccac80e14c24633a02636764e1eb56c",
            "a3aee2a91a5b4df5b2bc3e78467e4e9a",
            "40c93c1721db4159b85c9777026252a3",
            "182fa88da270489095380f84604cfeca",
            "0fd3648c17f049cf82a37e16009143ad",
            "c018b1be3d8d415b97bd0050d7afc0de",
            "adb3c42727df4ff3b5a5c02158d47a78",
            "5851a61177de40be88cd9b3aa5c432a2",
            "6fb2a4db4b604971ab89b7d59b4550ca",
            "f8dfdd91f20845b8b819d0311f378084",
            "095151b80fe34a52b9389407edb06e78",
            "6d31b82c393e4ed29e85c131a47e06ed",
            "df93ff1859b24b6a86c653f4e319076e",
            "18b85cb4d3a14036b77f616bf7dc34db",
            "b7ce8f17af0a43378e74bbf165214567",
            "fb70155ebb484f3da4e3e74496f15061",
            "985ffb0a56c148faa3982c699a4f64f5",
            "25f2bdf3e1b449ab828997e0fe261106",
            "de371f7758d7451b90bceda14dc241bc",
            "439c4785199a4ec18458057659efbcb1",
            "718d12027d0b46d594dc9c3c7389d731",
            "a10e9ea4f820497e93fd76fb43148f74",
            "7c2bfe2b790447dcaa79503818b9d7c1",
            "c6f8e9488da64247970ae2dbe881c83d",
            "8c9fe3a76f764f10b65bcf759068fb0d",
            "b1adb495745443749e8e785ab57af73a",
            "cc4edaccbf6849cd88ff2c04834a3d3d",
            "aad7e5c403f94d8d8b8e355f803a9928",
            "425e4cee89f24b49a4b475266e888721",
            "f7fc5142cc34477685e25fe02d413fa5",
            "49fa7288e0a942328dbaf0f61e082199",
            "8f978bae66144699a5d94eb92adace36",
            "f1b1e26dd08049ca97af754fa0e25ffe",
            "9ed57ae1218142feae6f3e88ab38deaf",
            "09cface263124f96aa88e32ec24187f5",
            "b84104a6896b4ec4ac4190f8faa1e947",
            "6078d8ea25984907a6977a5adce9ce17",
            "03514319d27c4796a37461a015229cfc",
            "8d40b33f432e41988697fc8be034e235",
            "8863476a82e14d15b31996fbfb9de639",
            "3005537e9f404a818b780affd982f5b3",
            "c4be699ae87842c2ac1785366f1ea4ed",
            "75f3522f845e4e92b179d9eef454e027",
            "2dbec9838dbd4b47923f6469a830dd3d",
            "0d35bc0d8a4a47619fbac84bcaca0c38",
            "6520a1394a0c40639fbef2d859b88514",
            "9e7c45e14278487eb82d1b0fee4eff40",
            "7f1b484eac0840bcab2bc45841152739",
            "96455e833e944f13855c5859c38f4fca",
            "409315be8f114f9da54c5a7626a4695b",
            "ec6eb35339a74d53b2708ae72a323264",
            "05dd3fd5ab0544fcbc444873fd6643fb",
            "8aa349f22e16483ab50b694afffc4012",
            "747b34646d5945559380098449009311",
            "898c6f36062d44dc8ff0bbbb2e76cdbf",
            "01fdf8d05791446e87de8be55e0bfe63",
            "7f7cfd85f58d4e64a77a1d64f9b62a64",
            "630481a2196f4205ae2d69d82ca4c9ef",
            "b6682e42e397424ea2230bfa8af833ff",
            "624a29f1b87c4741a723b6b40313c01e",
            "b130f03735ec47768521b076a49d56aa",
            "5e6ae1d6aef949cf90edbfa33073ed1d",
            "aa879916ae4847a8971385b840589db9",
            "cecce9166c0d44a7871397a84abc1a10",
            "7bb5cbb945344e5aa5940eed58a9f3ba",
            "fc488fdcbb2c403b9892001a3fcd8826",
            "f7d9900e2ef741f8b20a218f8bcd66c5"
          ]
        },
        "id": "lx1PhjGlBUrK",
        "outputId": "afa11699-76e4-4bf8-f96c-a8a187ad8cef"
      },
      "execution_count": 2,
      "outputs": [
        {
          "output_type": "stream",
          "name": "stderr",
          "text": [
            "/usr/local/lib/python3.10/dist-packages/huggingface_hub/utils/_auth.py:94: UserWarning: \n",
            "The secret `HF_TOKEN` does not exist in your Colab secrets.\n",
            "To authenticate with the Hugging Face Hub, create a token in your settings tab (https://huggingface.co/settings/tokens), set it as secret in your Google Colab and restart your session.\n",
            "You will be able to reuse this secret in all of your notebooks.\n",
            "Please note that authentication is recommended but still optional to access public models or datasets.\n",
            "  warnings.warn(\n"
          ]
        },
        {
          "output_type": "display_data",
          "data": {
            "text/plain": [
              "README.md:   0%|          | 0.00/1.72k [00:00<?, ?B/s]"
            ],
            "application/vnd.jupyter.widget-view+json": {
              "version_major": 2,
              "version_minor": 0,
              "model_id": "993fb496b2a643edb84d43a72211335d"
            }
          },
          "metadata": {}
        },
        {
          "output_type": "display_data",
          "data": {
            "text/plain": [
              "train_df.csv:   0%|          | 0.00/3.56M [00:00<?, ?B/s]"
            ],
            "application/vnd.jupyter.widget-view+json": {
              "version_major": 2,
              "version_minor": 0,
              "model_id": "a3aee2a91a5b4df5b2bc3e78467e4e9a"
            }
          },
          "metadata": {}
        },
        {
          "output_type": "display_data",
          "data": {
            "text/plain": [
              "val_df.csv:   0%|          | 0.00/601k [00:00<?, ?B/s]"
            ],
            "application/vnd.jupyter.widget-view+json": {
              "version_major": 2,
              "version_minor": 0,
              "model_id": "df93ff1859b24b6a86c653f4e319076e"
            }
          },
          "metadata": {}
        },
        {
          "output_type": "display_data",
          "data": {
            "text/plain": [
              "test_df.csv:   0%|          | 0.00/586k [00:00<?, ?B/s]"
            ],
            "application/vnd.jupyter.widget-view+json": {
              "version_major": 2,
              "version_minor": 0,
              "model_id": "c6f8e9488da64247970ae2dbe881c83d"
            }
          },
          "metadata": {}
        },
        {
          "output_type": "display_data",
          "data": {
            "text/plain": [
              "Generating train split:   0%|          | 0/31232 [00:00<?, ? examples/s]"
            ],
            "application/vnd.jupyter.widget-view+json": {
              "version_major": 2,
              "version_minor": 0,
              "model_id": "09cface263124f96aa88e32ec24187f5"
            }
          },
          "metadata": {}
        },
        {
          "output_type": "display_data",
          "data": {
            "text/plain": [
              "Generating validation split:   0%|          | 0/5205 [00:00<?, ? examples/s]"
            ],
            "application/vnd.jupyter.widget-view+json": {
              "version_major": 2,
              "version_minor": 0,
              "model_id": "6520a1394a0c40639fbef2d859b88514"
            }
          },
          "metadata": {}
        },
        {
          "output_type": "display_data",
          "data": {
            "text/plain": [
              "Generating test split:   0%|          | 0/5206 [00:00<?, ? examples/s]"
            ],
            "application/vnd.jupyter.widget-view+json": {
              "version_major": 2,
              "version_minor": 0,
              "model_id": "7f7cfd85f58d4e64a77a1d64f9b62a64"
            }
          },
          "metadata": {}
        }
      ]
    },
    {
      "cell_type": "markdown",
      "source": [
        "Проведем анализ!\n",
        "\n",
        "Структура объекта dataset довольно сложная, но удобная для интерпретации.\n",
        "\n",
        "У нас есть 3 выборки: train, validation и test.\n",
        "\n",
        "В каждой выборке 4 столбца:\n",
        "\n",
        "- ID элемента датасета, он нужен, чтобы все значения были уникальными, как в реляционной БД\n",
        "- text, label, sentiment"
      ],
      "metadata": {
        "id": "g9CAEMZkCdX0"
      }
    },
    {
      "cell_type": "code",
      "source": [
        "dataset"
      ],
      "metadata": {
        "colab": {
          "base_uri": "https://localhost:8080/"
        },
        "id": "lE8JMz9fCfNn",
        "outputId": "3e181fb3-d4d8-4a51-feca-241019362321"
      },
      "execution_count": 3,
      "outputs": [
        {
          "output_type": "execute_result",
          "data": {
            "text/plain": [
              "DatasetDict({\n",
              "    train: Dataset({\n",
              "        features: ['id', 'text', 'label', 'sentiment'],\n",
              "        num_rows: 31232\n",
              "    })\n",
              "    validation: Dataset({\n",
              "        features: ['id', 'text', 'label', 'sentiment'],\n",
              "        num_rows: 5205\n",
              "    })\n",
              "    test: Dataset({\n",
              "        features: ['id', 'text', 'label', 'sentiment'],\n",
              "        num_rows: 5206\n",
              "    })\n",
              "})"
            ]
          },
          "metadata": {},
          "execution_count": 3
        }
      ]
    },
    {
      "cell_type": "markdown",
      "source": [
        "Обычно для обработки таких данных используется библиотека pandas, но пока мы учимся, будем использовать нативный метод - цикл FOR.\n",
        "\n",
        "#**Задание 1**\n",
        "\n",
        "Для начала проверим, сбалансирован ли наш датасет."
      ],
      "metadata": {
        "id": "HsCrxJtaDAIn"
      }
    },
    {
      "cell_type": "code",
      "source": [
        "# Какие метки есть в датасете?\n",
        "\n",
        "# Создаем множество set()\n",
        "# Множество - это список уникальных элементов\n",
        "# Этот тип данных можно использовать как фильтр для наших меток\n",
        "unique_labels = set()\n",
        "\n",
        "# Для каждого уникального элемента из обучающей выборки dataset['train']\n",
        "# Добавим элемент в множество unique_labels\n",
        "for i in dataset['train']:\n",
        "  unique_labels.add(i['sentiment'])\n",
        "\n",
        "unique_labels"
      ],
      "metadata": {
        "colab": {
          "base_uri": "https://localhost:8080/"
        },
        "id": "IsKBV5wsCf7G",
        "outputId": "bf40554a-97eb-4c93-b165-8daa9bec864f"
      },
      "execution_count": 4,
      "outputs": [
        {
          "output_type": "execute_result",
          "data": {
            "text/plain": [
              "{'negative', 'neutral', 'positive'}"
            ]
          },
          "metadata": {},
          "execution_count": 4
        }
      ]
    },
    {
      "cell_type": "code",
      "source": [
        "# Теперь посчитаем, сколько представителей каждой метки в выборках train, validation и test\n",
        "# Подсказки:\n",
        "# - создайте пустые переменные, куда вы будете вносить количество меток\n",
        "# - используйте цикл for и условия if\n",
        "# - обновляйте значения переменных методом счетчика (каждое новое совпадение: counter += 1)\n",
        "# - выведите на экран значения переменных для каждой из трех выборок\n",
        "\n",
        "counter = dict()\n",
        "def sent_count(type, name):\n",
        "  neg = 0\n",
        "  neut = 0\n",
        "  pos = 0\n",
        "  for i in dataset[type]:\n",
        "    if i['sentiment'] == 'negative':\n",
        "      neg += 1\n",
        "    elif i['sentiment'] == 'positive':\n",
        "      pos += 1\n",
        "    elif i['sentiment'] == 'neutral':\n",
        "      neut += 1\n",
        "  counter.update({type: {\"neg\": neg, \"pos\": pos, \"neut\": neut}})\n",
        "  print(f\"\"\"Данные {name} выборки\n",
        "Положительные метки: {pos} единиц\n",
        "Отрицательне метки: {neg} единиц\n",
        "Нейтральные метки: {neut} единиц\\n\"\"\")\n",
        "\n",
        "sent_count(\"train\", \"обучающей\")\n",
        "sent_count(\"validation\", \"проверочной\")\n",
        "sent_count(\"test\", \"тестовой\")\n",
        "\n",
        "print(counter)\n"
      ],
      "metadata": {
        "colab": {
          "base_uri": "https://localhost:8080/"
        },
        "id": "KnPchjNYDOcu",
        "outputId": "67131b66-4045-4197-d50a-6d205baf32d9"
      },
      "execution_count": 5,
      "outputs": [
        {
          "output_type": "stream",
          "name": "stdout",
          "text": [
            "Данные обучающей выборки\n",
            "Положительные метки: 10478 единиц\n",
            "Отрицательне метки: 9105 единиц\n",
            "Нейтральные метки: 11649 единиц\n",
            "\n",
            "Данные проверочной выборки\n",
            "Положительные метки: 1760 единиц\n",
            "Отрицательне метки: 1517 единиц\n",
            "Нейтральные метки: 1928 единиц\n",
            "\n",
            "Данные тестовой выборки\n",
            "Положительные метки: 1730 единиц\n",
            "Отрицательне метки: 1546 единиц\n",
            "Нейтральные метки: 1930 единиц\n",
            "\n",
            "{'train': {'neg': 9105, 'pos': 10478, 'neut': 11649}, 'validation': {'neg': 1517, 'pos': 1760, 'neut': 1928}, 'test': {'neg': 1546, 'pos': 1730, 'neut': 1930}}\n"
          ]
        }
      ]
    },
    {
      "cell_type": "code",
      "source": [
        "# Используйте арифметические операции, чтобы посчитать процентное соотношение или долю каждого класса в каждой выборке\n",
        "import copy\n",
        "counter_pc = copy.deepcopy(counter)\n",
        "\n",
        "print(counter)\n",
        "\n",
        "def percent(type, name):\n",
        "  neg_pc = counter[type][\"neg\"] / sum([value for value in dict.values(counter[type])])\n",
        "  counter_pc[type].update({\"neg\": neg_pc})\n",
        "  pos_pc = counter[type][\"pos\"] / sum([value for value in dict.values(counter[type])])\n",
        "  counter_pc[type].update({\"pos\": pos_pc})\n",
        "  neut_pc = counter[type]['neut'] / sum([value for value in dict.values(counter[type])])\n",
        "  counter_pc[type].update({\"neut\": neut_pc})\n",
        "\n",
        "  print(f\"\"\"Данные {name} выборки\n",
        "  Положительные метки составляют {pos_pc} %\n",
        "  Отрицательные метки составляют {neg_pc} %\n",
        "  Нейтральные метки составляют {neut_pc} % \"\"\")\n",
        "\n",
        "percent(\"train\", \"обучающей\")\n",
        "percent(\"validation\", \"проверочной\")\n",
        "percent(\"test\", \"тестовой\")"
      ],
      "metadata": {
        "colab": {
          "base_uri": "https://localhost:8080/"
        },
        "id": "a8fO7lvcGR5T",
        "outputId": "6b20792d-ac71-4535-f02f-1a60e1cc1bf1"
      },
      "execution_count": 6,
      "outputs": [
        {
          "output_type": "stream",
          "name": "stdout",
          "text": [
            "{'train': {'neg': 9105, 'pos': 10478, 'neut': 11649}, 'validation': {'neg': 1517, 'pos': 1760, 'neut': 1928}, 'test': {'neg': 1546, 'pos': 1730, 'neut': 1930}}\n",
            "Данные обучающей выборки\n",
            "  Положительные метки составляют 0.3354892418032787 %\n",
            "  Отрицательные метки составляют 0.2915279200819672 %\n",
            "  Нейтральные метки составляют 0.3729828381147541 % \n",
            "Данные проверочной выборки\n",
            "  Положительные метки составляют 0.3381364073006724 %\n",
            "  Отрицательные метки составляют 0.2914505283381364 %\n",
            "  Нейтральные метки составляют 0.37041306436119115 % \n",
            "Данные тестовой выборки\n",
            "  Положительные метки составляют 0.3323088743757203 %\n",
            "  Отрицательные метки составляют 0.2969650403380715 %\n",
            "  Нейтральные метки составляют 0.3707260852862082 % \n"
          ]
        }
      ]
    },
    {
      "cell_type": "code",
      "source": [
        "# Создадим визуализацию\n",
        "# Будем работать с библиотекой matplotlip\n",
        "# Numpy - библиотека для обработки массивов данных - обеспечивает работу matplotlib\n",
        "from matplotlib import pyplot as plt\n",
        "import numpy as np\n",
        "\n",
        "# Задаем список меток\n",
        "labels = [\"negative\", \"positive\", \"neutral\"]\n",
        "# Задаем значения для каждой метки, процентное соотношение (только для обучающей выборки)\n",
        "data = [value for value in dict.values(counter_pc[\"train\"])]\n",
        "\n",
        "# Код для отрисовки круговой диаграммы\n",
        "fig = plt.figure(figsize=(5, 3))\n",
        "plt.pie(data, labels=labels, autopct='%1.f%%') # autopict создает числовые подписи и использует целочисленное форматирование\n",
        "\n",
        "# Показать график\n",
        "plt.show()"
      ],
      "metadata": {
        "colab": {
          "base_uri": "https://localhost:8080/",
          "height": 0
        },
        "id": "Ucjw-9whGqTw",
        "outputId": "b2e47e5d-7647-41be-84f5-c1bf21b5f2e4"
      },
      "execution_count": 7,
      "outputs": [
        {
          "output_type": "display_data",
          "data": {
            "text/plain": [
              "<Figure size 500x300 with 1 Axes>"
            ],
            "image/png": "[encoded data removed]"
          },
          "metadata": {}
        }
      ]
    },
    {
      "cell_type": "code",
      "source": [
        "# Сделаем то же самое для проверочной выборки\n",
        "# Задаем список меток\n",
        "labels = [\"negative\", \"positive\", \"neutral\"]\n",
        "# Задаем значения для каждой метки, процентное соотношение (только для обучающей выборки)\n",
        "data = [value for value in dict.values(counter_pc[\"validation\"])]\n",
        "\n",
        "# Код для отрисовки круговой диаграммы\n",
        "fig = plt.figure(figsize=(5, 3))\n",
        "plt.pie(data, labels=labels, autopct='%1.f%%') # autopict создает числовые подписи и использует целочисленное форматирование\n",
        "\n",
        "# Показать график\n",
        "plt.show()"
      ],
      "metadata": {
        "id": "q6cBY84aH2E0",
        "colab": {
          "base_uri": "https://localhost:8080/",
          "height": 0
        },
        "outputId": "a2f6ac33-79c0-43cd-ff04-93d6177ce5e3"
      },
      "execution_count": 8,
      "outputs": [
        {
          "output_type": "display_data",
          "data": {
            "text/plain": [
              "<Figure size 500x300 with 1 Axes>"
            ],
            "image/png": "[encoded data removed]"
          },
          "metadata": {}
        }
      ]
    },
    {
      "cell_type": "code",
      "source": [
        "# Сделаем то же самое для тестовой выборки\n",
        "# Задаем список меток\n",
        "labels = [\"negative\", \"positive\", \"neutral\"]\n",
        "# Задаем значения для каждой метки, процентное соотношение (только для обучающей выборки)\n",
        "data = [value for value in dict.values(counter_pc[\"test\"])]\n",
        "\n",
        "# Код для отрисовки круговой диаграммы\n",
        "fig = plt.figure(figsize=(5, 3))\n",
        "plt.pie(data, labels=labels, autopct='%1.f%%') # autopict создает числовые подписи и использует целочисленное форматирование\n",
        "\n",
        "# Показать график\n",
        "plt.show()"
      ],
      "metadata": {
        "id": "P6kstLAHH7kJ",
        "colab": {
          "base_uri": "https://localhost:8080/",
          "height": 0
        },
        "outputId": "93311394-4876-4fcd-9cb5-a5d5bd92e159"
      },
      "execution_count": 9,
      "outputs": [
        {
          "output_type": "display_data",
          "data": {
            "text/plain": [
              "<Figure size 500x300 with 1 Axes>"
            ],
            "image/png": "[encoded data removed]"
          },
          "metadata": {}
        }
      ]
    },
    {
      "cell_type": "markdown",
      "source": [
        "#**Задание 2**\n",
        "\n",
        "Займемся обработкой естественного языка.\n",
        "\n",
        "Познакомимся с библиотекой SpaCy для обработки текстов."
      ],
      "metadata": {
        "id": "FXJuNfwVGBBc"
      }
    },
    {
      "cell_type": "markdown",
      "source": [
        "# пример"
      ],
      "metadata": {
        "id": "eDyp5e0_GBg2"
      }
    },
    {
      "cell_type": "code",
      "source": [
        "# Загрузка spaCy\n",
        "import spacy\n",
        "\n",
        "# Загрузка библиотеки для визуализации spaCy\n",
        "from spacy import displacy\n",
        "\n",
        "# Инициализация инструментов SpaCy для английского (для каждого языка загружается свой вариант)\n",
        "nlp = spacy.load('en_core_web_sm')\n",
        "\n",
        "# Выведем доступные инструменты\n",
        "print(nlp.pipe_names)"
      ],
      "metadata": {
        "colab": {
          "base_uri": "https://localhost:8080/"
        },
        "id": "TZDla6PuaF4C",
        "outputId": "75316399-80fa-43af-daba-9b85d6805e0d"
      },
      "execution_count": 19,
      "outputs": [
        {
          "output_type": "stream",
          "name": "stdout",
          "text": [
            "['tok2vec', 'tagger', 'parser', 'attribute_ruler', 'lemmatizer', 'ner']\n"
          ]
        }
      ]
    },
    {
      "cell_type": "markdown",
      "source": [
        "Токенизация SpaCy производится с помощью цикла for"
      ],
      "metadata": {
        "id": "dee2sTbia0vF"
      }
    },
    {
      "cell_type": "code",
      "source": [
        "# Образец текста из нашего датасета\n",
        "sample = dataset['train'][0]['text']\n",
        "sample"
      ],
      "metadata": {
        "colab": {
          "base_uri": "https://localhost:8080/",
          "height": 35
        },
        "id": "2mDcYdu4bCOQ",
        "outputId": "3f6714fa-4915-4dc4-dc12-0021c0c44fa4"
      },
      "execution_count": 20,
      "outputs": [
        {
          "output_type": "execute_result",
          "data": {
            "text/plain": [
              "'Cooking microwave pizzas, yummy'"
            ],
            "application/vnd.google.colaboratory.intrinsic+json": {
              "type": "string"
            }
          },
          "metadata": {},
          "execution_count": 20
        }
      ]
    },
    {
      "cell_type": "code",
      "source": [
        "# Для работы со SpaCy, _нужно_ привести все к нужному виду\n",
        "# Для этого загружаем в nlp наш текст\n",
        "doc = nlp(sample)\n",
        "doc # Визуально ничего не изменилось, но теперь это объект класса SpaCy, который можно обработать инструментами NLP"
      ],
      "metadata": {
        "colab": {
          "base_uri": "https://localhost:8080/"
        },
        "id": "RnqH0yzEbHKC",
        "outputId": "681c1629-91c0-456b-f293-b61c28cd5291"
      },
      "execution_count": 21,
      "outputs": [
        {
          "output_type": "execute_result",
          "data": {
            "text/plain": [
              "Cooking microwave pizzas, yummy"
            ]
          },
          "metadata": {},
          "execution_count": 21
        }
      ]
    },
    {
      "cell_type": "code",
      "source": [
        "# Токенизация\n",
        "for token in doc:\n",
        "    print(token.text)"
      ],
      "metadata": {
        "colab": {
          "base_uri": "https://localhost:8080/"
        },
        "id": "Gx0LPZAUZ0A0",
        "outputId": "68f4bb3b-f513-4be7-a365-bae8c1f1ce8c"
      },
      "execution_count": 22,
      "outputs": [
        {
          "output_type": "stream",
          "name": "stdout",
          "text": [
            "Cooking\n",
            "microwave\n",
            "pizzas\n",
            ",\n",
            "yummy\n"
          ]
        }
      ]
    },
    {
      "cell_type": "code",
      "source": [
        "# Частеречная разметка\n",
        "for token in doc:\n",
        "    print(token.pos_)"
      ],
      "metadata": {
        "colab": {
          "base_uri": "https://localhost:8080/"
        },
        "id": "pQc83BZGbfk6",
        "outputId": "6466d301-b706-4aa2-c6ab-8d60d06c1b40"
      },
      "execution_count": 23,
      "outputs": [
        {
          "output_type": "stream",
          "name": "stdout",
          "text": [
            "NOUN\n",
            "NOUN\n",
            "NOUN\n",
            "PUNCT\n",
            "ADJ\n"
          ]
        }
      ]
    },
    {
      "cell_type": "code",
      "source": [
        "# Лемматизация\n",
        "for token in doc:\n",
        "    print(token.lemma_)"
      ],
      "metadata": {
        "colab": {
          "base_uri": "https://localhost:8080/"
        },
        "id": "ZWgH4deYbpjJ",
        "outputId": "8ab0fa5f-16c3-419d-a946-241b735847b6"
      },
      "execution_count": 24,
      "outputs": [
        {
          "output_type": "stream",
          "name": "stdout",
          "text": [
            "cooking\n",
            "microwave\n",
            "pizza\n",
            ",\n",
            "yummy\n"
          ]
        }
      ]
    },
    {
      "cell_type": "code",
      "source": [
        "# Синтаксическая роль (составляющие)\n",
        "for token in doc:\n",
        "    print(token.tag_)"
      ],
      "metadata": {
        "colab": {
          "base_uri": "https://localhost:8080/"
        },
        "id": "DUseEIwMbzrW",
        "outputId": "d7663bdf-e5ba-40e2-9716-3e2f7dc8dd97"
      },
      "execution_count": 25,
      "outputs": [
        {
          "output_type": "stream",
          "name": "stdout",
          "text": [
            "NN\n",
            "NN\n",
            "NNS\n",
            ",\n",
            "JJ\n"
          ]
        }
      ]
    },
    {
      "cell_type": "code",
      "source": [
        "# Синтаксическая роль (зависимости)\n",
        "for token in doc:\n",
        "\n",
        "    print(token.dep_)"
      ],
      "metadata": {
        "colab": {
          "base_uri": "https://localhost:8080/"
        },
        "id": "PoiI91_2b361",
        "outputId": "38cd2579-2b36-4009-949c-4deca884869e"
      },
      "execution_count": 26,
      "outputs": [
        {
          "output_type": "stream",
          "name": "stdout",
          "text": [
            "compound\n",
            "compound\n",
            "ROOT\n",
            "punct\n",
            "amod\n"
          ]
        }
      ]
    },
    {
      "cell_type": "code",
      "source": [
        "# Морфологическая разметка\n",
        "for token in doc:\n",
        "    print(token.morph)"
      ],
      "metadata": {
        "colab": {
          "base_uri": "https://localhost:8080/"
        },
        "id": "WwAJ1_U6cTfX",
        "outputId": "0f2983bc-6950-4d32-926a-10fdb1620946"
      },
      "execution_count": 27,
      "outputs": [
        {
          "output_type": "stream",
          "name": "stdout",
          "text": [
            "Number=Sing\n",
            "Number=Sing\n",
            "Number=Plur\n",
            "PunctType=Comm\n",
            "Degree=Pos\n"
          ]
        }
      ]
    },
    {
      "cell_type": "markdown",
      "source": [
        "# задание"
      ],
      "metadata": {
        "id": "7lKntj3jGFqG"
      }
    },
    {
      "cell_type": "markdown",
      "source": [
        "1. Сохраним в отдельную переменную список текстов из тестовой выборки"
      ],
      "metadata": {
        "id": "D6E9WuBOdFMc"
      }
    },
    {
      "cell_type": "code",
      "source": [
        "mytext = dataset['test'][:]['text']\n",
        "print(mytext[:5])\n",
        "# Выведите первые 5 текстов"
      ],
      "metadata": {
        "colab": {
          "base_uri": "https://localhost:8080/"
        },
        "id": "J6O0t2zhcb_G",
        "outputId": "dc42f472-9196-4a86-f81f-e1790a4592f3"
      },
      "execution_count": 40,
      "outputs": [
        {
          "output_type": "stream",
          "name": "stdout",
          "text": [
            "['getting cds ready for tour', ' MC, happy mother`s day to your mom ;).. love yah', 'A year from now is graduation....i am pretty sure i`m not ready for it!?!?!?', ' because you had chips and sale w/o me', 'Great for organising my work life balance']\n"
          ]
        }
      ]
    },
    {
      "cell_type": "markdown",
      "source": [
        "2. Создадим список токенов для каждого текста с помощью SpaCy"
      ],
      "metadata": {
        "id": "eRgN1Qr4dnZT"
      }
    },
    {
      "cell_type": "code",
      "source": [
        "nlp_text = [nlp(i) for i in mytext[:100]]"
      ],
      "metadata": {
        "id": "DclrI2zqJOJO"
      },
      "execution_count": 49,
      "outputs": []
    },
    {
      "cell_type": "code",
      "source": [
        "token_list = []\n",
        "for text in nlp_text[:5]:\n",
        "  token_list.append([token.text for token in text])\n",
        "print(token_list)\n",
        "# Не забудьте применить nlp!\n",
        "# Выведите первые 5 текстов\n",
        "# Обработка может занять много времени, достаточно обработать первые 100 текстов"
      ],
      "metadata": {
        "colab": {
          "base_uri": "https://localhost:8080/"
        },
        "id": "SXsyPzricnwo",
        "outputId": "8d76419c-30b8-4dcf-fb91-89bbace21e2b",
        "collapsed": true
      },
      "execution_count": 50,
      "outputs": [
        {
          "output_type": "stream",
          "name": "stdout",
          "text": [
            "[['getting', 'cds', 'ready', 'for', 'tour'], [' ', 'MC', ',', 'happy', 'mother`s', 'day', 'to', 'your', 'mom', ';)', '..', 'love', 'yah'], ['A', 'year', 'from', 'now', 'is', 'graduation', '....', 'i', 'am', 'pretty', 'sure', 'i`m', 'not', 'ready', 'for', 'it', '!', '?', '!', '?', '!', '?'], [' ', 'because', 'you', 'had', 'chips', 'and', 'sale', 'w/o', 'me'], ['Great', 'for', 'organising', 'my', 'work', 'life', 'balance']]\n"
          ]
        }
      ]
    },
    {
      "cell_type": "markdown",
      "source": [
        "3. Частеречная разметка: создаем список частей речи для каждого токена"
      ],
      "metadata": {
        "id": "OXzB_0AifeeT"
      }
    },
    {
      "cell_type": "code",
      "source": [
        "pos_list = []\n",
        "for text in nlp_text[:5]:\n",
        "  pos_list.append([token.pos_ for token in text])\n",
        "print(pos_list)"
      ],
      "metadata": {
        "colab": {
          "base_uri": "https://localhost:8080/"
        },
        "id": "RZI3ZOOGePY2",
        "outputId": "d14197c1-0f7b-47e6-fff9-4a1eec2cf5a5"
      },
      "execution_count": 51,
      "outputs": [
        {
          "output_type": "stream",
          "name": "stdout",
          "text": [
            "[['VERB', 'NOUN', 'ADJ', 'ADP', 'NOUN'], ['SPACE', 'PROPN', 'PUNCT', 'ADJ', 'PROPN', 'NOUN', 'ADP', 'PRON', 'NOUN', 'PUNCT', 'PUNCT', 'NOUN', 'NOUN'], ['DET', 'NOUN', 'ADP', 'ADV', 'AUX', 'NOUN', 'PUNCT', 'PRON', 'AUX', 'ADV', 'ADJ', 'PROPN', 'PART', 'ADJ', 'ADP', 'PRON', 'PUNCT', 'PUNCT', 'PUNCT', 'PUNCT', 'PUNCT', 'PUNCT'], ['SPACE', 'SCONJ', 'PRON', 'VERB', 'NOUN', 'CCONJ', 'NOUN', 'ADP', 'PRON'], ['ADJ', 'ADP', 'VERB', 'PRON', 'NOUN', 'NOUN', 'NOUN']]\n"
          ]
        }
      ]
    },
    {
      "cell_type": "markdown",
      "source": [
        "4. Проверим точность разметки. С помощью range выведем для первых пяти текстов пары \"слово - его частеречный тег\"."
      ],
      "metadata": {
        "id": "JECq3nC7f7K6"
      }
    },
    {
      "cell_type": "code",
      "source": [
        "#можно словарем?\n",
        "token_pos_sets = dict()\n",
        "for i in range(len(nlp_text[:5])):\n",
        "  print(\"Текст\", i)\n",
        "  print(dict(zip(token_list[i], pos_list[i])))\n",
        "  token_pos_sets.update(dict(zip(token_list[i], pos_list[i])))\n",
        "\n"
      ],
      "metadata": {
        "colab": {
          "base_uri": "https://localhost:8080/"
        },
        "id": "kZv7_1Ptfxm-",
        "outputId": "2f6c5d18-0d82-4d7c-ad43-2ae149a133fe"
      },
      "execution_count": 77,
      "outputs": [
        {
          "output_type": "stream",
          "name": "stdout",
          "text": [
            "Текст 0\n",
            "{'getting': 'VERB', 'cds': 'NOUN', 'ready': 'ADJ', 'for': 'ADP', 'tour': 'NOUN'}\n",
            "Текст 1\n",
            "{' ': 'SPACE', 'MC': 'PROPN', ',': 'PUNCT', 'happy': 'ADJ', 'mother`s': 'PROPN', 'day': 'NOUN', 'to': 'ADP', 'your': 'PRON', 'mom': 'NOUN', ';)': 'PUNCT', '..': 'PUNCT', 'love': 'NOUN', 'yah': 'NOUN'}\n",
            "Текст 2\n",
            "{'A': 'DET', 'year': 'NOUN', 'from': 'ADP', 'now': 'ADV', 'is': 'AUX', 'graduation': 'NOUN', '....': 'PUNCT', 'i': 'PRON', 'am': 'AUX', 'pretty': 'ADV', 'sure': 'ADJ', 'i`m': 'PROPN', 'not': 'PART', 'ready': 'ADJ', 'for': 'ADP', 'it': 'PRON', '!': 'PUNCT', '?': 'PUNCT'}\n",
            "Текст 3\n",
            "{' ': 'SPACE', 'because': 'SCONJ', 'you': 'PRON', 'had': 'VERB', 'chips': 'NOUN', 'and': 'CCONJ', 'sale': 'NOUN', 'w/o': 'ADP', 'me': 'PRON'}\n",
            "Текст 4\n",
            "{'Great': 'ADJ', 'for': 'ADP', 'organising': 'VERB', 'my': 'PRON', 'work': 'NOUN', 'life': 'NOUN', 'balance': 'NOUN'}\n"
          ]
        }
      ]
    },
    {
      "cell_type": "markdown",
      "source": [
        "5. Разметка именованных сущностей\n",
        "\n",
        "Вернемся к списку токенов, который мы создали в пункте 2. Выберем небольшой срез, например тексты 7-19."
      ],
      "metadata": {
        "id": "yLxnLhVgh1ge"
      }
    },
    {
      "cell_type": "code",
      "source": [
        "# я уже привела к нлп все тексты по сотый\n",
        "for text in nlp_text[7:19]:\n",
        "  print([(ent, ent.label_) for ent in text.ents]) # Выведем именованную сущность и ее лейбл"
      ],
      "metadata": {
        "colab": {
          "base_uri": "https://localhost:8080/"
        },
        "id": "Jw8szOaGgeTe",
        "outputId": "0e9e3d9c-0b3d-4d0b-8c0d-4c590e872b77"
      },
      "execution_count": 79,
      "outputs": [
        {
          "output_type": "stream",
          "name": "stdout",
          "text": [
            "[(1st, 'ORDINAL'), (2890, 'CARDINAL')]\n",
            "[(first, 'ORDINAL')]\n",
            "[(today, 'DATE'), (i`m, 'NORP')]\n",
            "[]\n",
            "[(Audi, 'ORG')]\n",
            "[]\n",
            "[(REALLY, 'GPE')]\n",
            "[(i`m, 'NORP')]\n",
            "[]\n",
            "[]\n",
            "[(TY, 'ORG')]\n",
            "[(recent years, 'DATE')]\n"
          ]
        }
      ]
    },
    {
      "cell_type": "markdown",
      "source": [
        "Здесь мы используем новый тип данных - кортеж `(entity, label)`\n",
        "\n",
        "Кортеж очень похож на список. Разница только в том, что кортеж - неизменяемый, т.е. это список, в котором ничего нельзя изменить, удалить или добавить.\n",
        "\n",
        "Кортежи занимают меньше памяти, т.к. у них меньше свойств. Они защищают данные от изменений и могут применяться в сложных структурах, например, служить ключом для словаря `dict`.\n",
        "\n",
        "На практике, их удобно применять для разметки данных  методами NLP."
      ],
      "metadata": {
        "id": "jUAfUQaSlGrM"
      }
    },
    {
      "cell_type": "code",
      "source": [
        "displacy.render(nlp_text[18], style=\"ent\", jupyter=True)"
      ],
      "metadata": {
        "colab": {
          "base_uri": "https://localhost:8080/",
          "height": 52
        },
        "id": "xX2b3XB1OGSX",
        "outputId": "6e1a1a26-7316-4085-81c3-880a43c7dcdd"
      },
      "execution_count": 81,
      "outputs": [
        {
          "output_type": "display_data",
          "data": {
            "text/plain": [
              "<IPython.core.display.HTML object>"
            ],
            "text/html": [
              "<span class=\"tex2jax_ignore\"><div class=\"entities\" style=\"line-height: 2.5; direction: ltr\">  i definitely will , although with the caveat  that i normally only read non fiction..but have more in \n",
              "<mark class=\"entity\" style=\"background: #bfe1d9; padding: 0.45em 0.6em; margin: 0 0.25em; line-height: 1; border-radius: 0.35em;\">\n",
              "    recent years\n",
              "    <span style=\"font-size: 0.8em; font-weight: bold; line-height: 1; border-radius: 0.35em; vertical-align: middle; margin-left: 0.5rem\">DATE</span>\n",
              "</mark>\n",
              " read novels</div></span>"
            ]
          },
          "metadata": {}
        }
      ]
    }
  ]
}